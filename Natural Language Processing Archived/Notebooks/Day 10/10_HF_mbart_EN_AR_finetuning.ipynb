{
 "cells": [
  {
   "cell_type": "code",
   "execution_count": 1,
   "metadata": {
    "ExecuteTime": {
     "end_time": "2025-03-15T19:28:21.460783Z",
     "start_time": "2025-03-15T19:28:21.458205Z"
    },
    "id": "lT5T9rOt44Kj"
   },
   "outputs": [],
   "source": [
    "from IPython.display import clear_output"
   ]
  },
  {
   "cell_type": "markdown",
   "metadata": {
    "id": "trsV8pUirJjw"
   },
   "source": [
    "# Content\n",
    "\n",
    "In this notebook we will finetune a transformer network taken from huggingface, using huggingface's Trainer API\n",
    "\n",
    "we will train facebook's mbart model to create a two way chinese to urdu language translator.\n",
    "\n",
    "The reason for chosing mbart as the source model is because it has already seen a lot of languages's data(50 in our case) during pre-training\n",
    "\n",
    "you can find more information about mbart on [hugging face](https://huggingface.co/facebook/mbart-large-50)"
   ]
  },
  {
   "cell_type": "code",
   "execution_count": 2,
   "metadata": {
    "id": "qm8A39LpycMh"
   },
   "outputs": [],
   "source": [
    "# %pip install gdown\n",
    "# %pip install evaluate\n",
    "# %pip install pandas\n",
    "# %pip install sentencepiece\n",
    "# %pip install accelerator\n",
    "# %pip install protobuf==3.20.3\n",
    "# %pip install matplotlib\n",
    "# %pip install transformers datasets\n",
    "\n",
    "# %pip install --disable-pip-version-check \\\n",
    "#     torch \\\n",
    "#     torchdata --quiet\n",
    "\n",
    "# %pip install tqdm\n",
    "\n",
    "clear_output()"
   ]
  },
  {
   "cell_type": "code",
   "execution_count": 3,
   "metadata": {
    "ExecuteTime": {
     "end_time": "2025-03-15T19:28:23.165912Z",
     "start_time": "2025-03-15T19:28:23.163591Z"
    },
    "executionInfo": {
     "elapsed": 16906,
     "status": "ok",
     "timestamp": 1713222620169,
     "user": {
      "displayName": "Telha Bin Bilal",
      "userId": "04147761314111353462"
     },
     "user_tz": -300
    },
    "id": "dF1i1PLZvKtb"
   },
   "outputs": [],
   "source": [
    "# %pip install datasets\n",
    "# # %pip install transformers[torch]  # [torch] because Trainer API with torch needs accelerator installed. This takes care of that. Might need a restart of the session\n",
    "# # %pip install gdown==4.5\n",
    "# %pip install evaluate\n",
    "# %pip install rouge_score\n",
    "# # \n",
    "# clear_output()"
   ]
  },
  {
   "cell_type": "code",
   "execution_count": 2,
   "metadata": {
    "ExecuteTime": {
     "end_time": "2025-03-15T19:28:23.489102Z",
     "start_time": "2025-03-15T19:28:23.485847Z"
    },
    "executionInfo": {
     "elapsed": 2,
     "status": "ok",
     "timestamp": 1713224273984,
     "user": {
      "displayName": "Telha Bin Bilal",
      "userId": "04147761314111353462"
     },
     "user_tz": -300
    },
    "id": "61tvs4YJ06cL"
   },
   "outputs": [],
   "source": [
    "import math\n",
    "from datasets import Dataset\n",
    "from transformers import GenerationConfig, TrainingArguments, Trainer, TrainerCallback\n",
    "from transformers import MBartForConditionalGeneration, MBart50TokenizerFast\n",
    "import torch\n",
    "import pandas as pd\n",
    "import evaluate\n",
    "from tqdm import tqdm\n",
    "import json\n",
    "\n",
    "import matplotlib.pyplot as plt\n",
    "\n",
    "import random"
   ]
  },
  {
   "cell_type": "markdown",
   "metadata": {
    "id": "5K6IgJvrv_Kj"
   },
   "source": [
    "## Downloading the data"
   ]
  },
  {
   "cell_type": "code",
   "execution_count": 3,
   "metadata": {
    "ExecuteTime": {
     "end_time": "2025-03-15T19:28:27.224403Z",
     "start_time": "2025-03-15T19:28:24.643305Z"
    },
    "colab": {
     "base_uri": "https://localhost:8080/"
    },
    "executionInfo": {
     "elapsed": 3553,
     "status": "ok",
     "timestamp": 1713221843447,
     "user": {
      "displayName": "Telha Bin Bilal",
      "userId": "04147761314111353462"
     },
     "user_tz": -300
    },
    "id": "tNivcpw_wDz5",
    "outputId": "de26ff41-8ad3-4afe-dba4-ee6834a76096"
   },
   "outputs": [],
   "source": [
    "from datasets import load_dataset\n",
    "\n",
    "# Load the dataset\n",
    "dataset = load_dataset(\"Abdulmohsena/Classic-Arabic-English-Language-Pairs\")\n"
   ]
  },
  {
   "cell_type": "code",
   "execution_count": 4,
   "metadata": {
    "ExecuteTime": {
     "end_time": "2025-03-15T19:28:35.313971Z",
     "start_time": "2025-03-15T19:28:35.311490Z"
    }
   },
   "outputs": [
    {
     "name": "stdout",
     "output_type": "stream",
     "text": [
      "DatasetDict({\n",
      "    train: Dataset({\n",
      "        features: ['en', 'ar'],\n",
      "        num_rows: 20364\n",
      "    })\n",
      "})\n"
     ]
    }
   ],
   "source": [
    "# Explore the dataset\n",
    "print(dataset)"
   ]
  },
  {
   "cell_type": "code",
   "execution_count": 5,
   "metadata": {
    "ExecuteTime": {
     "end_time": "2025-03-15T19:28:36.219277Z",
     "start_time": "2025-03-15T19:28:36.216335Z"
    },
    "id": "J7nmRWIeUdph"
   },
   "outputs": [],
   "source": [
    "random.seed(7)\n",
    "device = 'cuda' if torch.cuda.is_available() else 'cpu'"
   ]
  },
  {
   "cell_type": "code",
   "execution_count": 6,
   "metadata": {},
   "outputs": [
    {
     "data": {
      "text/plain": [
       "'cuda'"
      ]
     },
     "execution_count": 6,
     "metadata": {},
     "output_type": "execute_result"
    }
   ],
   "source": [
    "device"
   ]
  },
  {
   "cell_type": "code",
   "execution_count": 7,
   "metadata": {
    "ExecuteTime": {
     "end_time": "2025-03-15T19:28:37.061250Z",
     "start_time": "2025-03-15T19:28:36.813754Z"
    },
    "id": "prK_XK6oQh5V"
   },
   "outputs": [
    {
     "name": "stdout",
     "output_type": "stream",
     "text": [
      "Training data shape: (5000, 2)\n",
      "Testing data shape: (1000, 2)\n"
     ]
    }
   ],
   "source": [
    "from sklearn.model_selection import train_test_split\n",
    "# Convert to pandas DataFrames\n",
    "train_data = pd.DataFrame(dataset['train'])\n",
    "\n",
    "# First split into train and test\n",
    "train_data_full, test_data = train_test_split(train_data, test_size=0.2, random_state=42)\n",
    "\n",
    "train_data = train_data_full.head(5000)  \n",
    "test_data = test_data.head(1000) \n",
    "\n",
    "print(f\"Training data shape: {train_data.shape}\")\n",
    "print(f\"Testing data shape: {test_data.shape}\")\n",
    "\n"
   ]
  },
  {
   "cell_type": "code",
   "execution_count": 8,
   "metadata": {
    "ExecuteTime": {
     "end_time": "2025-03-15T19:28:38.024540Z",
     "start_time": "2025-03-15T19:28:38.018373Z"
    },
    "colab": {
     "base_uri": "https://localhost:8080/",
     "height": 293
    },
    "executionInfo": {
     "elapsed": 632,
     "status": "ok",
     "timestamp": 1713221846017,
     "user": {
      "displayName": "Telha Bin Bilal",
      "userId": "04147761314111353462"
     },
     "user_tz": -300
    },
    "id": "lfOEzgGS0jf_",
    "outputId": "529ff3e9-a988-4e7b-b592-0b52c043e927"
   },
   "outputs": [
    {
     "data": {
      "text/html": [
       "<div>\n",
       "<style scoped>\n",
       "    .dataframe tbody tr th:only-of-type {\n",
       "        vertical-align: middle;\n",
       "    }\n",
       "\n",
       "    .dataframe tbody tr th {\n",
       "        vertical-align: top;\n",
       "    }\n",
       "\n",
       "    .dataframe thead th {\n",
       "        text-align: right;\n",
       "    }\n",
       "</style>\n",
       "<table border=\"1\" class=\"dataframe\">\n",
       "  <thead>\n",
       "    <tr style=\"text-align: right;\">\n",
       "      <th></th>\n",
       "      <th>en</th>\n",
       "      <th>ar</th>\n",
       "    </tr>\n",
       "  </thead>\n",
       "  <tbody>\n",
       "    <tr>\n",
       "      <th>7792</th>\n",
       "      <td>The greater the burden, the more you must be c...</td>\n",
       "      <td>وبقدر عظمها يجب التكليف من الله عليها؛ فبقدر م...</td>\n",
       "    </tr>\n",
       "    <tr>\n",
       "      <th>10285</th>\n",
       "      <td>Before that, when he was the emir of the city,...</td>\n",
       "      <td>فأما قبلها، وهو أمير المدينة، فكان يسمع الغناء...</td>\n",
       "    </tr>\n",
       "    <tr>\n",
       "      <th>586</th>\n",
       "      <td>Then the people are called to prayer, and thei...</td>\n",
       "      <td>ثم يؤذن للناس، وتؤخذ رقاعهم فينظر فيها.</td>\n",
       "    </tr>\n",
       "    <tr>\n",
       "      <th>10493</th>\n",
       "      <td>Have I not informed you? The believer is the o...</td>\n",
       "      <td>ألا أخبركم بالمؤمن من أمنه الناس على أموالهم و...</td>\n",
       "    </tr>\n",
       "    <tr>\n",
       "      <th>10590</th>\n",
       "      <td>These muscles should be less fleshy at the sec...</td>\n",
       "      <td>ويجب أن تكون هذه العضلات عند المقاطع أقل لحمية...</td>\n",
       "    </tr>\n",
       "  </tbody>\n",
       "</table>\n",
       "</div>"
      ],
      "text/plain": [
       "                                                      en  \\\n",
       "7792   The greater the burden, the more you must be c...   \n",
       "10285  Before that, when he was the emir of the city,...   \n",
       "586    Then the people are called to prayer, and thei...   \n",
       "10493  Have I not informed you? The believer is the o...   \n",
       "10590  These muscles should be less fleshy at the sec...   \n",
       "\n",
       "                                                      ar  \n",
       "7792   وبقدر عظمها يجب التكليف من الله عليها؛ فبقدر م...  \n",
       "10285  فأما قبلها، وهو أمير المدينة، فكان يسمع الغناء...  \n",
       "586              ثم يؤذن للناس، وتؤخذ رقاعهم فينظر فيها.  \n",
       "10493  ألا أخبركم بالمؤمن من أمنه الناس على أموالهم و...  \n",
       "10590  ويجب أن تكون هذه العضلات عند المقاطع أقل لحمية...  "
      ]
     },
     "execution_count": 8,
     "metadata": {},
     "output_type": "execute_result"
    }
   ],
   "source": [
    "# Sample of the data\n",
    "train_data.head()"
   ]
  },
  {
   "cell_type": "code",
   "execution_count": 9,
   "metadata": {
    "ExecuteTime": {
     "end_time": "2025-03-15T19:28:40.487327Z",
     "start_time": "2025-03-15T19:28:40.477547Z"
    },
    "id": "rMlBW37Z9OJo"
   },
   "outputs": [],
   "source": [
    "train_dataset = Dataset.from_pandas(train_data, split='train')\n",
    "test_dataset = Dataset.from_pandas(test_data, split='test')"
   ]
  },
  {
   "cell_type": "markdown",
   "metadata": {
    "id": "CYBqO_J80-op"
   },
   "source": [
    "## Prepare the model and tokenizers"
   ]
  },
  {
   "cell_type": "code",
   "execution_count": 10,
   "metadata": {
    "ExecuteTime": {
     "end_time": "2025-03-15T19:28:46.741873Z",
     "start_time": "2025-03-15T19:28:42.707372Z"
    },
    "colab": {
     "base_uri": "https://localhost:8080/"
    },
    "executionInfo": {
     "elapsed": 9250,
     "status": "ok",
     "timestamp": 1713221859187,
     "user": {
      "displayName": "Telha Bin Bilal",
      "userId": "04147761314111353462"
     },
     "user_tz": -300
    },
    "id": "MrpQLDVYiujp",
    "outputId": "cacef5cb-1f88-449a-971f-1cd09bd90cf9"
   },
   "outputs": [],
   "source": [
    "model_name='facebook/mbart-large-50'\n",
    "\n",
    "model = MBartForConditionalGeneration.from_pretrained(model_name)\n",
    "tokenizer1 = MBart50TokenizerFast.from_pretrained(model_name, src_lang=\"en_XX\", tgt_lang=\"ar_AR\")\n",
    "tokenizer2 = MBart50TokenizerFast.from_pretrained(model_name, src_lang=\"ar_AR\", tgt_lang=\"en_XX\")"
   ]
  },
  {
   "cell_type": "code",
   "execution_count": 11,
   "metadata": {
    "ExecuteTime": {
     "end_time": "2025-03-15T19:28:47.709707Z",
     "start_time": "2025-03-15T19:28:47.706346Z"
    },
    "id": "g1PfNzUIUMvv"
   },
   "outputs": [],
   "source": [
    "def tokenize_function(rows):\n",
    "    src_language = 'en'\n",
    "    tgt_language = 'ar'\n",
    "\n",
    "    # Randomly swap source and target language for data augmentation\n",
    "    if random.randint(0, 1) == 1:\n",
    "        src_language, tgt_language = tgt_language, src_language\n",
    "\n",
    "    src_tokenizer, tgt_tokenizer = [get_apt_tokenizer(language) for language in (src_language, tgt_language)]\n",
    "\n",
    "    start_prompt = f''\n",
    "    end_prompt = f''\n",
    "    prompt = [start_prompt + row + end_prompt for row in rows[src_language]]\n",
    "    rows['src_language'] = [src_language] * len(rows[src_language])\n",
    "    rows['prompt'] = prompt\n",
    "    encoding = src_tokenizer(prompt, padding=\"max_length\", truncation=True, return_tensors=\"pt\", max_length=256)\n",
    "    rows['input_ids'], rows['attention_mask'] = encoding.input_ids, encoding.attention_mask\n",
    "    rows['labels'] = tgt_tokenizer(rows[tgt_language], padding=\"max_length\", truncation=True, return_tensors=\"pt\", max_length=256).input_ids\n",
    "\n",
    "    return rows\n",
    "\n",
    "def get_apt_tokenizer(src_language):\n",
    "    if src_language.lower() == 'en':\n",
    "        return tokenizer1  # English tokenizer\n",
    "    elif src_language.lower() == 'ar':\n",
    "        return tokenizer2  # Arabic tokenizer\n",
    "    else:\n",
    "        raise ValueError('Invalid Language')"
   ]
  },
  {
   "cell_type": "code",
   "execution_count": 12,
   "metadata": {
    "ExecuteTime": {
     "end_time": "2025-03-15T19:28:48.633010Z",
     "start_time": "2025-03-15T19:28:48.525708Z"
    },
    "colab": {
     "base_uri": "https://localhost:8080/",
     "height": 81,
     "referenced_widgets": [
      "c715719a5c6049579498a994cc1a611c",
      "ae23172792f64ce4b201db93d4b0875c",
      "4431a295ec3843cc98b5d5c62bd77163",
      "76f0c6a14c5b41aeb0016e650921a367",
      "40a2bbce812849019d71309f1efd989e",
      "ead595ef7076404fb5881e34cadb5cb3",
      "0a5cd27672804d7689b311bffa230976",
      "6124e359b9cd439781cbaf0609989f3a",
      "0d9b4359a5e94006b58e600e70806b12",
      "7102b671693c4ac2b420d86c19fbd0bc",
      "51f53577b2d146f98ac985f50b74b904",
      "ca2b150251dd49e39d18f929729a83db",
      "4546b8c4a0fb4279a0ebf18820957ee6",
      "a6ae9bd9ed4f4c53a6d96e55c7a227ea",
      "a0c6a69c4b434f289e301430555de97f",
      "04de949010964f2493ed039bee8d3dd9",
      "5299012f653e428fbde10da99ba54485",
      "cc5028330aa34b18bb2a8e7987307aa2",
      "f5d3eea7548f478fb80cf8d761f9f148",
      "30a00dd5fa7d47379ca02105ac052093",
      "3866cd741c4b433aaba15644be806d1d",
      "f083a717dcb94159831e907aff3ceb0f"
     ]
    },
    "executionInfo": {
     "elapsed": 16968,
     "status": "ok",
     "timestamp": 1713221887853,
     "user": {
      "displayName": "Telha Bin Bilal",
      "userId": "04147761314111353462"
     },
     "user_tz": -300
    },
    "id": "7Z6NBIEYV41s",
    "outputId": "a46e5f5b-b55f-4d30-e8fb-895fabd86425"
   },
   "outputs": [
    {
     "data": {
      "application/vnd.jupyter.widget-view+json": {
       "model_id": "5902dc1604394374a231e7448fb67cb5",
       "version_major": 2,
       "version_minor": 0
      },
      "text/plain": [
       "Map:   0%|          | 0/5000 [00:00<?, ? examples/s]"
      ]
     },
     "metadata": {},
     "output_type": "display_data"
    },
    {
     "data": {
      "application/vnd.jupyter.widget-view+json": {
       "model_id": "5375a8081d064ef39ef3a65565b8b381",
       "version_major": 2,
       "version_minor": 0
      },
      "text/plain": [
       "Map:   0%|          | 0/1000 [00:00<?, ? examples/s]"
      ]
     },
     "metadata": {},
     "output_type": "display_data"
    }
   ],
   "source": [
    "tokenized_train_dataset = train_dataset.map(tokenize_function, batched=True)\n",
    "tokenized_test_dataset = test_dataset.map(tokenize_function, batched=True)"
   ]
  },
  {
   "cell_type": "markdown",
   "metadata": {
    "id": "MTSJPBOz9O5V"
   },
   "source": [
    "## Check to see tokenizer is working correctly by encoding and decoding"
   ]
  },
  {
   "cell_type": "code",
   "execution_count": 13,
   "metadata": {
    "ExecuteTime": {
     "end_time": "2025-03-15T19:28:55.898785Z",
     "start_time": "2025-03-15T19:28:55.466775Z"
    },
    "colab": {
     "base_uri": "https://localhost:8080/"
    },
    "executionInfo": {
     "elapsed": 3,
     "status": "ok",
     "timestamp": 1713221889623,
     "user": {
      "displayName": "Telha Bin Bilal",
      "userId": "04147761314111353462"
     },
     "user_tz": -300
    },
    "id": "ymWGgL9Ec-08",
    "outputId": "dd736444-806f-45c7-d72b-2bbd83b70523"
   },
   "outputs": [
    {
     "name": "stdout",
     "output_type": "stream",
     "text": [
      "row[\"src_language\"]='en'\n",
      "English: He said: Your neglected and abandoned servant, my master Isaac. He said: He will be present at once.\n",
      "Arabic: ! قال: عبدك المجفو المطرح، ياسيدي إسحاق قال: يحضر الساعة.\n",
      "Input decoded: He said: Your neglected and abandoned servant, my master Isaac. He said: He will be present at once.\n",
      "Label decoded: ! قال: عبدك المجفو المطرح، ياسيدي إسحاق قال: يحضر الساعة.\n"
     ]
    }
   ],
   "source": [
    "idx = 3\n",
    "row = tokenized_test_dataset[idx]\n",
    "tokenizer = get_apt_tokenizer(row['src_language'])\n",
    "\n",
    "print(f'{row[\"src_language\"]=}')\n",
    "print(f'English: {row[\"en\"]}')\n",
    "print(f'Arabic: {row[\"ar\"]}')\n",
    "print(f'Input decoded: {tokenizer.decode(row[\"input_ids\"], skip_special_tokens=True)}')\n",
    "print(f'Label decoded: {tokenizer.decode(row[\"labels\"], skip_special_tokens=True)}')"
   ]
  },
  {
   "cell_type": "code",
   "execution_count": 14,
   "metadata": {
    "ExecuteTime": {
     "end_time": "2025-03-15T19:29:01.825648Z",
     "start_time": "2025-03-15T19:29:01.822638Z"
    },
    "colab": {
     "base_uri": "https://localhost:8080/"
    },
    "executionInfo": {
     "elapsed": 524,
     "status": "ok",
     "timestamp": 1713221892543,
     "user": {
      "displayName": "Telha Bin Bilal",
      "userId": "04147761314111353462"
     },
     "user_tz": -300
    },
    "id": "RiQYyqgxeTde",
    "outputId": "22191242-b3fa-47cb-9d22-f310af8e35d0"
   },
   "outputs": [
    {
     "data": {
      "text/plain": [
       "(5000, 8)"
      ]
     },
     "execution_count": 14,
     "metadata": {},
     "output_type": "execute_result"
    }
   ],
   "source": [
    "tokenized_train_dataset.shape"
   ]
  },
  {
   "cell_type": "code",
   "execution_count": 15,
   "metadata": {
    "ExecuteTime": {
     "end_time": "2025-03-15T19:29:02.854232Z",
     "start_time": "2025-03-15T19:29:02.848595Z"
    },
    "id": "0PEu7-xcaO0t"
   },
   "outputs": [],
   "source": [
    "tokenized_train_dataset = tokenized_train_dataset.shuffle(seed=13)\n",
    "tokenized_test_dataset = tokenized_test_dataset.shuffle(seed=13)"
   ]
  },
  {
   "cell_type": "code",
   "execution_count": 16,
   "metadata": {
    "ExecuteTime": {
     "end_time": "2025-03-15T19:29:03.182056Z",
     "start_time": "2025-03-15T19:29:03.178597Z"
    },
    "colab": {
     "base_uri": "https://localhost:8080/"
    },
    "executionInfo": {
     "elapsed": 2,
     "status": "ok",
     "timestamp": 1713221895988,
     "user": {
      "displayName": "Telha Bin Bilal",
      "userId": "04147761314111353462"
     },
     "user_tz": -300
    },
    "id": "3iT1iln0WL7u",
    "outputId": "83c54446-d27b-4af2-817e-5a6130fd3fde"
   },
   "outputs": [
    {
     "name": "stdout",
     "output_type": "stream",
     "text": [
      "(5000, 8)\n"
     ]
    },
    {
     "data": {
      "text/plain": [
       "Dataset({\n",
       "    features: ['en', 'ar', '__index_level_0__', 'src_language', 'prompt', 'input_ids', 'attention_mask', 'labels'],\n",
       "    num_rows: 5000\n",
       "})"
      ]
     },
     "execution_count": 16,
     "metadata": {},
     "output_type": "execute_result"
    }
   ],
   "source": [
    "print(tokenized_train_dataset.shape)\n",
    "tokenized_train_dataset"
   ]
  },
  {
   "cell_type": "markdown",
   "metadata": {
    "id": "8ldHBeE09TSh"
   },
   "source": [
    "## Pre-trained model"
   ]
  },
  {
   "cell_type": "code",
   "execution_count": 17,
   "metadata": {
    "ExecuteTime": {
     "end_time": "2025-03-15T19:29:20.355346Z",
     "start_time": "2025-03-15T19:29:18.755177Z"
    }
   },
   "outputs": [
    {
     "data": {
      "text/plain": [
       "'</s><s> He said: Your neglected and abandoned servant, my master Isaac. He said: He will be present at once.</s>'"
      ]
     },
     "execution_count": 17,
     "metadata": {},
     "output_type": "execute_result"
    }
   ],
   "source": [
    "sample_english = \"He said: Your neglected and abandoned servant, my master Isaac. He said: He will be present at once.\"\n",
    "with torch.no_grad():\n",
    "    res = model.generate(**tokenizer1(sample_english, return_tensors='pt'))\n",
    "tokenizer1.batch_decode(res)[0]"
   ]
  },
  {
   "cell_type": "code",
   "execution_count": 18,
   "metadata": {
    "ExecuteTime": {
     "end_time": "2025-03-15T19:29:34.058417Z",
     "start_time": "2025-03-15T19:29:32.747012Z"
    },
    "colab": {
     "base_uri": "https://localhost:8080/",
     "height": 35
    },
    "executionInfo": {
     "elapsed": 7430,
     "status": "ok",
     "timestamp": 1713221905553,
     "user": {
      "displayName": "Telha Bin Bilal",
      "userId": "04147761314111353462"
     },
     "user_tz": -300
    },
    "id": "BGCz3h7wc-1A",
    "outputId": "44f76301-d70e-4ba4-ff3e-63c33ba37432"
   },
   "outputs": [
    {
     "data": {
      "text/plain": [
       "'</s><s> قال: عبدك المجفو المطرح، ياسيدي إسحاق قال: يحضر الساعة.</s>'"
      ]
     },
     "execution_count": 18,
     "metadata": {},
     "output_type": "execute_result"
    }
   ],
   "source": [
    "sample_arabic = \"قال: عبدك المجفو المطرح، ياسيدي إسحاق قال: يحضر الساعة.\"\n",
    "with torch.no_grad():\n",
    "    res = model.generate(**tokenizer2(sample_arabic, return_tensors='pt'))\n",
    "tokenizer2.batch_decode(res)[0]"
   ]
  },
  {
   "cell_type": "markdown",
   "metadata": {
    "id": "8S4evl1b9Wal"
   },
   "source": [
    "## Training the model"
   ]
  },
  {
   "cell_type": "code",
   "execution_count": 19,
   "metadata": {},
   "outputs": [],
   "source": [
    "# Create empty lists for storing losses\n",
    "train_losses = []\n",
    "val_losses = []"
   ]
  },
  {
   "cell_type": "code",
   "execution_count": 35,
   "metadata": {
    "ExecuteTime": {
     "end_time": "2025-03-15T19:42:36.948854Z",
     "start_time": "2025-03-15T19:42:36.365125Z"
    },
    "colab": {
     "base_uri": "https://localhost:8080/"
    },
    "executionInfo": {
     "elapsed": 1634,
     "status": "ok",
     "timestamp": 1713221908541,
     "user": {
      "displayName": "Telha Bin Bilal",
      "userId": "04147761314111353462"
     },
     "user_tz": -300
    },
    "id": "FRjp3P8KT2Xo",
    "outputId": "7505c272-1bd2-46d0-b76c-d934e918769b"
   },
   "outputs": [
    {
     "name": "stderr",
     "output_type": "stream",
     "text": [
      "huggingface/tokenizers: The current process just got forked, after parallelism has already been used. Disabling parallelism to avoid deadlocks...\n",
      "To disable this warning, you can either:\n",
      "\t- Avoid using `tokenizers` before the fork if possible\n",
      "\t- Explicitly set the environment variable TOKENIZERS_PARALLELISM=(true | false)\n"
     ]
    }
   ],
   "source": [
    "output_dir = f'./checkpoints/mbart-large-translator-full-run'\n",
    "\n",
    "training_args = TrainingArguments(\n",
    "    output_dir=output_dir,\n",
    "    auto_find_batch_size=True,\n",
    "    learning_rate=5e-5,\n",
    "    num_train_epochs=5,\n",
    "    eval_strategy=\"epoch\",\n",
    "    save_strategy=\"epoch\",\n",
    "    logging_strategy=\"epoch\",\n",
    "    warmup_steps=100,\n",
    "    report_to=\"none\"  # Disable reporting to avoid clutter\n",
    ")\n",
    "\n",
    "trainer = Trainer(\n",
    "    model=model,\n",
    "    args=training_args,\n",
    "    train_dataset=tokenized_train_dataset,\n",
    "    eval_dataset=tokenized_test_dataset\n",
    ")\n"
   ]
  },
  {
   "cell_type": "code",
   "execution_count": 36,
   "metadata": {
    "ExecuteTime": {
     "end_time": "2025-03-15T19:40:28.248599Z",
     "start_time": "2025-03-15T19:31:34.495810Z"
    },
    "id": "DkEp_psIaF8-"
   },
   "outputs": [
    {
     "data": {
      "text/html": [
       "\n",
       "    <div>\n",
       "      \n",
       "      <progress value='3125' max='3125' style='width:300px; height:20px; vertical-align: middle;'></progress>\n",
       "      [3125/3125 49:36, Epoch 5/5]\n",
       "    </div>\n",
       "    <table border=\"1\" class=\"dataframe\">\n",
       "  <thead>\n",
       " <tr style=\"text-align: left;\">\n",
       "      <th>Epoch</th>\n",
       "      <th>Training Loss</th>\n",
       "      <th>Validation Loss</th>\n",
       "    </tr>\n",
       "  </thead>\n",
       "  <tbody>\n",
       "    <tr>\n",
       "      <td>1</td>\n",
       "      <td>2.654600</td>\n",
       "      <td>0.384585</td>\n",
       "    </tr>\n",
       "    <tr>\n",
       "      <td>2</td>\n",
       "      <td>0.724900</td>\n",
       "      <td>0.346233</td>\n",
       "    </tr>\n",
       "    <tr>\n",
       "      <td>3</td>\n",
       "      <td>0.489500</td>\n",
       "      <td>0.344470</td>\n",
       "    </tr>\n",
       "    <tr>\n",
       "      <td>4</td>\n",
       "      <td>0.172400</td>\n",
       "      <td>0.369305</td>\n",
       "    </tr>\n",
       "    <tr>\n",
       "      <td>5</td>\n",
       "      <td>0.107400</td>\n",
       "      <td>0.382018</td>\n",
       "    </tr>\n",
       "  </tbody>\n",
       "</table><p>"
      ],
      "text/plain": [
       "<IPython.core.display.HTML object>"
      ]
     },
     "metadata": {},
     "output_type": "display_data"
    },
    {
     "name": "stderr",
     "output_type": "stream",
     "text": [
      "/ibex/user/habiam0b/miniconda3/envs/GPU/lib/python3.9/site-packages/transformers/modeling_utils.py:2810: UserWarning: Moving the following attributes in the config to the generation config: {'max_length': 200, 'early_stopping': True, 'num_beams': 5}. You are seeing this warning because you've set generation parameters in the model config, as opposed to in the generation config.\n",
      "  warnings.warn(\n"
     ]
    },
    {
     "data": {
      "text/plain": [
       "TrainOutput(global_step=3125, training_loss=0.8297602197265626, metrics={'train_runtime': 2977.6024, 'train_samples_per_second': 8.396, 'train_steps_per_second': 1.05, 'total_flos': 1.35445610496e+16, 'train_loss': 0.8297602197265626, 'epoch': 5.0})"
      ]
     },
     "execution_count": 36,
     "metadata": {},
     "output_type": "execute_result"
    }
   ],
   "source": [
    "trainer.train()"
   ]
  },
  {
   "cell_type": "code",
   "execution_count": 37,
   "metadata": {},
   "outputs": [
    {
     "name": "stdout",
     "output_type": "stream",
     "text": [
      "Training losses: [2.6546, 0.7249, 0.4895, 0.1724, 0.1074]\n",
      "Validation losses: [0.38458487391471863, 0.3462332785129547, 0.34446996450424194, 0.3693047761917114, 0.3820178210735321]\n"
     ]
    }
   ],
   "source": [
    "# After training, collect all losses from the log history\n",
    "for log in trainer.state.log_history:\n",
    "    if \"loss\" in log and \"eval_loss\" not in log:\n",
    "        train_losses.append(log[\"loss\"])\n",
    "    elif \"eval_loss\" in log:\n",
    "        val_losses.append(log[\"eval_loss\"])\n",
    "\n",
    "# Print the losses\n",
    "print(\"Training losses:\", train_losses)\n",
    "print(\"Validation losses:\", val_losses)"
   ]
  },
  {
   "cell_type": "code",
   "execution_count": 38,
   "metadata": {
    "ExecuteTime": {
     "end_time": "2025-03-15T19:40:48.313524Z",
     "start_time": "2025-03-15T19:40:45.656312Z"
    },
    "id": "38XKjo4rc-1B"
   },
   "outputs": [],
   "source": [
    "model.save_pretrained('mbart_5ep_full_finetuned_bidir')"
   ]
  },
  {
   "cell_type": "code",
   "execution_count": 20,
   "metadata": {
    "ExecuteTime": {
     "end_time": "2025-03-15T19:40:51.687452Z",
     "start_time": "2025-03-15T19:40:49.995341Z"
    }
   },
   "outputs": [],
   "source": [
    "# Load the model\n",
    "model = MBartForConditionalGeneration.from_pretrained('mbart_5ep_full_finetuned_bidir')"
   ]
  },
  {
   "cell_type": "code",
   "execution_count": 35,
   "metadata": {},
   "outputs": [
    {
     "data": {
      "text/plain": [
       "1"
      ]
     },
     "execution_count": 35,
     "metadata": {},
     "output_type": "execute_result"
    }
   ],
   "source": [
    "model.to(device)\n",
    "1"
   ]
  },
  {
   "cell_type": "code",
   "execution_count": 23,
   "metadata": {
    "ExecuteTime": {
     "end_time": "2025-03-15T19:40:53.213509Z",
     "start_time": "2025-03-15T19:40:51.689184Z"
    },
    "id": "k6iTxtx6c-1C",
    "outputId": "23c403f3-9324-469a-c1b0-95bb0d770525"
   },
   "outputs": [
    {
     "name": "stdout",
     "output_type": "stream",
     "text": [
      "</s>ar_AR وكلما كان العبء أكثر احتيج أن تثق به عند الله وكلما كان النعمة التي أنعم عليك بها أكثر احتيج أن تشكر</s>\n"
     ]
    }
   ],
   "source": [
    "sample_english = \"The greater the burden, the more you must be charged with it by God. The greater the blessing He has bestowed upon you, the more you must be thankful\"\n",
    "with torch.no_grad():\n",
    "    encoding = tokenizer1(sample_english, return_tensors='pt')\n",
    "    input_ids, attn_mask = encoding.input_ids.to(model.device), encoding.attention_mask.to(model.device)\n",
    "    # Add forced_bos_token_id for Arabic\n",
    "    res = model.generate(\n",
    "        input_ids=input_ids, \n",
    "        attention_mask=attn_mask,\n",
    "        forced_bos_token_id=tokenizer1.lang_code_to_id[\"ar_AR\"]\n",
    "    )\n",
    "print(tokenizer1.batch_decode(res)[0])"
   ]
  },
  {
   "cell_type": "code",
   "execution_count": 24,
   "metadata": {},
   "outputs": [
    {
     "name": "stdout",
     "output_type": "stream",
     "text": [
      "</s>en_XX The more you must bear the burden, the more you must bear it from God. The more blessings He has granted to you, the more you must be grateful for Him.</s>\n"
     ]
    }
   ],
   "source": [
    "sample_arabic = \"كلما زاد العبء، كلما كان عليك أن تتحمله من الله. كلما كانت البركة التي منحها لك أكبر، كلما كان عليك أن تكون أكثر امتنانًا\"\n",
    "with torch.no_grad():\n",
    "    encoding = tokenizer2(sample_arabic, return_tensors='pt')\n",
    "    input_ids, attn_mask = encoding.input_ids.to(model.device), encoding.attention_mask.to(model.device)\n",
    "    # Add forced_bos_token_id for English\n",
    "    res = model.generate(\n",
    "        input_ids=input_ids, \n",
    "        attention_mask=attn_mask,\n",
    "        forced_bos_token_id=tokenizer2.lang_code_to_id[\"en_XX\"]\n",
    "    )\n",
    "print(tokenizer2.batch_decode(res)[0])"
   ]
  },
  {
   "cell_type": "code",
   "execution_count": 40,
   "metadata": {
    "ExecuteTime": {
     "end_time": "2025-03-15T19:40:56.094269Z",
     "start_time": "2025-03-15T19:40:55.984840Z"
    },
    "id": "vlnbMC5krCuM",
    "outputId": "c2f6ff04-c2c6-4639-8b1b-6eb87bbb2517"
   },
   "outputs": [
    {
     "data": {
      "image/png": "[encoded data removed]",
      "text/plain": [
       "<Figure size 640x480 with 1 Axes>"
      ]
     },
     "metadata": {},
     "output_type": "display_data"
    }
   ],
   "source": [
    "plt.plot(train_losses, label='Train Losses')\n",
    "plt.plot(val_losses, label='Val Losses')\n",
    "\n",
    "plt.legend()\n",
    "plt.show()"
   ]
  },
  {
   "cell_type": "markdown",
   "metadata": {
    "id": "Wia3fOMiCDiR"
   },
   "source": [
    "## Evaluating the results"
   ]
  },
  {
   "cell_type": "code",
   "execution_count": 23,
   "metadata": {
    "ExecuteTime": {
     "end_time": "2025-03-15T19:05:16.387322Z",
     "start_time": "2025-03-15T19:05:13.517988Z"
    },
    "colab": {
     "base_uri": "https://localhost:8080/",
     "height": 113,
     "referenced_widgets": [
      "bc9f4fa03d62449dae549d6d2d91ba90",
      "9ec513aca22242e4af4324974907041c",
      "1ebc50b887b74cb2a88f579cd7d13813",
      "10187d5c9f674943b6c523b74657f911",
      "f6f344f7a649499b9e8e3079145e66f4",
      "dc28001916424bfc824b94cea29e98bc",
      "d1d61f6dcc064b8eaa2f121d09040f5e",
      "2813b5022eb446009c0fb3abd3b294e5",
      "8c657b480a934100b80c6e32ad93f50c",
      "7059aba0e81f4702b52a895150fb959f",
      "72fa2b1dc10b4e6980493ec7396d825a",
      "583c24ac407746cba805f5ba93b028dc",
      "603c7b67c8b74c99bfbf60d3abbad8d2",
      "90431f3e570b48029ffab6b83b3be895",
      "ca29a8b930b949e592015e8fa94b99ff",
      "f10b09d9626547c7a0deaa936bd7f910",
      "3f74eba1e021418489216756005c0e4a",
      "fa4621e326f94f52996b30080a126b74",
      "442aefa65cfe4bf9acbe9388eae4f782",
      "a5125dbd99d84b4580d0c50f9175ae75",
      "3800313356744a81ad2cd79e1ceb1f3b",
      "7b8aedb8a0764daa977c13f164355a0c",
      "8b0f2fc38ed64bb084d08b887bbc9e71",
      "59d4914ecbbe4c5f8c77e998ac371015",
      "4d527243bf2846d794d27fbcd8f51c09",
      "402064b33c214d3eaf0044149e4971c7",
      "b0a095e9dde04125aa98057f8beeccbc",
      "0991a6cc335a4e018fe3f9c04648bce7",
      "d8b25833512b4e73a375f81a05af31ba",
      "99527374d99e40edbaf6c460ed6b9943",
      "046a89aae0be4e17ac8a86d324ab8212",
      "e43a244feeef404a8a802e828c71e723",
      "f29b8fa08c914b66b816e6e4f3be41e6"
     ]
    },
    "executionInfo": {
     "elapsed": 1999,
     "status": "ok",
     "timestamp": 1713223296155,
     "user": {
      "displayName": "Telha Bin Bilal",
      "userId": "04147761314111353462"
     },
     "user_tz": -300
    },
    "id": "OrYlpI61COQa",
    "outputId": "39553a7f-32ef-4415-ee0e-aa792ff597be"
   },
   "outputs": [],
   "source": [
    "bleu = evaluate.load('bleu')"
   ]
  },
  {
   "cell_type": "code",
   "execution_count": 71,
   "metadata": {},
   "outputs": [
    {
     "data": {
      "text/plain": [
       "MBartForConditionalGeneration(\n",
       "  (model): MBartModel(\n",
       "    (shared): MBartScaledWordEmbedding(250054, 1024, padding_idx=1)\n",
       "    (encoder): MBartEncoder(\n",
       "      (embed_tokens): MBartScaledWordEmbedding(250054, 1024, padding_idx=1)\n",
       "      (embed_positions): MBartLearnedPositionalEmbedding(1026, 1024)\n",
       "      (layers): ModuleList(\n",
       "        (0-11): 12 x MBartEncoderLayer(\n",
       "          (self_attn): MBartSdpaAttention(\n",
       "            (k_proj): Linear(in_features=1024, out_features=1024, bias=True)\n",
       "            (v_proj): Linear(in_features=1024, out_features=1024, bias=True)\n",
       "            (q_proj): Linear(in_features=1024, out_features=1024, bias=True)\n",
       "            (out_proj): Linear(in_features=1024, out_features=1024, bias=True)\n",
       "          )\n",
       "          (self_attn_layer_norm): LayerNorm((1024,), eps=1e-05, elementwise_affine=True)\n",
       "          (activation_fn): GELUActivation()\n",
       "          (fc1): Linear(in_features=1024, out_features=4096, bias=True)\n",
       "          (fc2): Linear(in_features=4096, out_features=1024, bias=True)\n",
       "          (final_layer_norm): LayerNorm((1024,), eps=1e-05, elementwise_affine=True)\n",
       "        )\n",
       "      )\n",
       "      (layernorm_embedding): LayerNorm((1024,), eps=1e-05, elementwise_affine=True)\n",
       "      (layer_norm): LayerNorm((1024,), eps=1e-05, elementwise_affine=True)\n",
       "    )\n",
       "    (decoder): MBartDecoder(\n",
       "      (embed_tokens): MBartScaledWordEmbedding(250054, 1024, padding_idx=1)\n",
       "      (embed_positions): MBartLearnedPositionalEmbedding(1026, 1024)\n",
       "      (layers): ModuleList(\n",
       "        (0-11): 12 x MBartDecoderLayer(\n",
       "          (self_attn): MBartSdpaAttention(\n",
       "            (k_proj): Linear(in_features=1024, out_features=1024, bias=True)\n",
       "            (v_proj): Linear(in_features=1024, out_features=1024, bias=True)\n",
       "            (q_proj): Linear(in_features=1024, out_features=1024, bias=True)\n",
       "            (out_proj): Linear(in_features=1024, out_features=1024, bias=True)\n",
       "          )\n",
       "          (activation_fn): GELUActivation()\n",
       "          (self_attn_layer_norm): LayerNorm((1024,), eps=1e-05, elementwise_affine=True)\n",
       "          (encoder_attn): MBartSdpaAttention(\n",
       "            (k_proj): Linear(in_features=1024, out_features=1024, bias=True)\n",
       "            (v_proj): Linear(in_features=1024, out_features=1024, bias=True)\n",
       "            (q_proj): Linear(in_features=1024, out_features=1024, bias=True)\n",
       "            (out_proj): Linear(in_features=1024, out_features=1024, bias=True)\n",
       "          )\n",
       "          (encoder_attn_layer_norm): LayerNorm((1024,), eps=1e-05, elementwise_affine=True)\n",
       "          (fc1): Linear(in_features=1024, out_features=4096, bias=True)\n",
       "          (fc2): Linear(in_features=4096, out_features=1024, bias=True)\n",
       "          (final_layer_norm): LayerNorm((1024,), eps=1e-05, elementwise_affine=True)\n",
       "        )\n",
       "      )\n",
       "      (layernorm_embedding): LayerNorm((1024,), eps=1e-05, elementwise_affine=True)\n",
       "      (layer_norm): LayerNorm((1024,), eps=1e-05, elementwise_affine=True)\n",
       "    )\n",
       "  )\n",
       "  (lm_head): Linear(in_features=1024, out_features=250054, bias=False)\n",
       ")"
      ]
     },
     "execution_count": 71,
     "metadata": {},
     "output_type": "execute_result"
    }
   ],
   "source": [
    "untrained_model = MBartForConditionalGeneration.from_pretrained(model_name)\n",
    "untrained_model.to(device)"
   ]
  },
  {
   "cell_type": "code",
   "execution_count": 72,
   "metadata": {
    "ExecuteTime": {
     "end_time": "2025-03-15T19:05:17.619712Z",
     "start_time": "2025-03-15T19:05:17.605215Z"
    },
    "executionInfo": {
     "elapsed": 2,
     "status": "ok",
     "timestamp": 1713223298927,
     "user": {
      "displayName": "Telha Bin Bilal",
      "userId": "04147761314111353462"
     },
     "user_tz": -300
    },
    "id": "yRDGT2WoBbKV"
   },
   "outputs": [],
   "source": [
    "cn_to_ur_data = test_data.sample(frac=0.5, random_state=123)\n",
    "ur_to_cn_data = test_data.loc[test_data.index.difference(cn_to_ur_data.index)]"
   ]
  },
  {
   "cell_type": "code",
   "execution_count": 73,
   "metadata": {
    "ExecuteTime": {
     "end_time": "2025-03-15T19:14:12.312372Z",
     "start_time": "2025-03-15T19:05:17.767163Z"
    },
    "colab": {
     "base_uri": "https://localhost:8080/"
    },
    "executionInfo": {
     "elapsed": 342226,
     "status": "ok",
     "timestamp": 1713224175936,
     "user": {
      "displayName": "Telha Bin Bilal",
      "userId": "04147761314111353462"
     },
     "user_tz": -300
    },
    "id": "NFKcAE-0CiNR",
    "outputId": "375766ba-2050-4c56-c8a5-264765b5c333"
   },
   "outputs": [
    {
     "name": "stderr",
     "output_type": "stream",
     "text": [
      "100%|███████████████████████████████████████████████████████████████████████████████████| 32/32 [02:38<00:00,  4.96s/it]\n"
     ]
    }
   ],
   "source": [
    "batch_size = 16\n",
    "\n",
    "num_batches = int(math.ceil(len(cn_to_ur_data)/batch_size))\n",
    "\n",
    "all_untrained_model_outputs = []\n",
    "all_trained_model_outputs = []\n",
    "\n",
    "for i in tqdm(range(num_batches)):\n",
    "\n",
    "    batch_start = i*batch_size\n",
    "    batch_end = batch_start + batch_size\n",
    "\n",
    "    batch_df = cn_to_ur_data.iloc[batch_start:] if i == num_batches - 1 else cn_to_ur_data.iloc[batch_start: batch_end]\n",
    "\n",
    "    prompts = [f'{chinese}' for chinese in batch_df['en']]\n",
    "\n",
    "    with torch.no_grad():\n",
    "\n",
    "        encodings = tokenizer1(prompts, return_tensors=\"pt\", padding=\"max_length\", truncation=True, max_length=256)\n",
    "\n",
    "        input_ids = encodings.input_ids.to(device)\n",
    "        attention_mask = encodings.attention_mask.to(device)\n",
    "\n",
    "        model_outputs = untrained_model.generate(input_ids=input_ids,\n",
    "                                                         attention_mask=attention_mask,\n",
    "                                                         generation_config=GenerationConfig(max_new_tokens=256))\n",
    "        model_text_output = tokenizer1.batch_decode(model_outputs, skip_special_tokens=True)\n",
    "        all_untrained_model_outputs.extend(model_text_output)\n",
    "\n",
    "        trained_model_outputs = model.generate(input_ids=input_ids,\n",
    "                                                 attention_mask=attention_mask,\n",
    "                                                 generation_config=GenerationConfig(max_new_tokens=256))\n",
    "        trained_model_text_output = tokenizer1.batch_decode(trained_model_outputs, skip_special_tokens=True)\n",
    "        all_trained_model_outputs.extend(trained_model_text_output)"
   ]
  },
  {
   "cell_type": "code",
   "execution_count": 74,
   "metadata": {},
   "outputs": [
    {
     "data": {
      "text/plain": [
       "500"
      ]
     },
     "execution_count": 74,
     "metadata": {},
     "output_type": "execute_result"
    }
   ],
   "source": [
    "len(all_untrained_model_outputs)"
   ]
  },
  {
   "cell_type": "code",
   "execution_count": 75,
   "metadata": {},
   "outputs": [
    {
     "data": {
      "text/plain": [
       "500"
      ]
     },
     "execution_count": 75,
     "metadata": {},
     "output_type": "execute_result"
    }
   ],
   "source": [
    "len(all_trained_model_outputs)"
   ]
  },
  {
   "cell_type": "code",
   "execution_count": 76,
   "metadata": {},
   "outputs": [],
   "source": [
    "cn_to_ur_data['trained_model_urdu'] = all_trained_model_outputs\n",
    "cn_to_ur_data['untrained_model_urdu'] = all_untrained_model_outputs"
   ]
  },
  {
   "cell_type": "code",
   "execution_count": 79,
   "metadata": {
    "ExecuteTime": {
     "end_time": "2025-03-15T19:14:29.103038Z",
     "start_time": "2025-03-15T19:14:29.099625Z"
    },
    "executionInfo": {
     "elapsed": 2,
     "status": "ok",
     "timestamp": 1713224231552,
     "user": {
      "displayName": "Telha Bin Bilal",
      "userId": "04147761314111353462"
     },
     "user_tz": -300
    },
    "id": "NpTK__dGCh-4",
    "scrolled": true
   },
   "outputs": [],
   "source": [
    "predictions_untrained = cn_to_ur_data['untrained_model_urdu'].tolist()\n",
    "predictions_trained = cn_to_ur_data['trained_model_urdu'].tolist()\n",
    "references_raw = cn_to_ur_data['ar'].tolist()\n",
    "\n",
    "references = [[ref] for ref in references_raw]\n",
    "\n",
    "predictions_untrained = [str(pred) for pred in predictions_untrained]\n",
    "predictions_trained = [str(pred) for pred in predictions_trained]\n",
    "references = [[str(ref)] for ref in references_raw]\n",
    "\n",
    "original_bleu = bleu.compute(\n",
    "    predictions=predictions_untrained,\n",
    "    references=references,\n",
    ")\n",
    "\n",
    "trained_bleu = bleu.compute(\n",
    "    predictions=predictions_trained,\n",
    "    references=references,\n",
    ")"
   ]
  },
  {
   "cell_type": "code",
   "execution_count": 80,
   "metadata": {
    "ExecuteTime": {
     "end_time": "2025-03-15T19:14:12.644873Z",
     "start_time": "2025-03-15T19:14:12.644803Z"
    },
    "colab": {
     "base_uri": "https://localhost:8080/"
    },
    "executionInfo": {
     "elapsed": 432,
     "status": "ok",
     "timestamp": 1713224461683,
     "user": {
      "displayName": "Telha Bin Bilal",
      "userId": "04147761314111353462"
     },
     "user_tz": -300
    },
    "id": "-jDm-t1YGYRO",
    "outputId": "0d0b210a-7559-4159-a32a-b7a7b638c292"
   },
   "outputs": [
    {
     "name": "stdout",
     "output_type": "stream",
     "text": [
      "Chinese to Urdu\n",
      "Original model:\n",
      "{\n",
      "  \"bleu\": 0.0,\n",
      "  \"precisions\": [\n",
      "    0.005537920088330688,\n",
      "    0.00010441319782820548,\n",
      "    0.0,\n",
      "    0.0\n",
      "  ],\n",
      "  \"brevity_penalty\": 1.0,\n",
      "  \"length_ratio\": 5.488495407631853,\n",
      "  \"translation_length\": 57964,\n",
      "  \"reference_length\": 10561\n",
      "}\n",
      "Trained model:\n",
      "{\n",
      "  \"bleu\": 0.03633769150296854,\n",
      "  \"precisions\": [\n",
      "    0.17083333333333334,\n",
      "    0.052702984763097475,\n",
      "    0.02212681638044914,\n",
      "    0.010592480502851822\n",
      "  ],\n",
      "  \"brevity_penalty\": 0.9534023665735639,\n",
      "  \"length_ratio\": 0.9544550705425623,\n",
      "  \"translation_length\": 10080,\n",
      "  \"reference_length\": 10561\n",
      "}\n"
     ]
    }
   ],
   "source": [
    "print('Chinese to Urdu')\n",
    "print('Original model:')\n",
    "print(json.dumps(original_bleu, indent=2))\n",
    "print('Trained model:')\n",
    "print(json.dumps(trained_bleu, indent=2))"
   ]
  },
  {
   "cell_type": "code",
   "execution_count": null,
   "metadata": {
    "ExecuteTime": {
     "end_time": "2025-03-15T19:14:12.645974Z",
     "start_time": "2025-03-15T19:14:12.645802Z"
    },
    "id": "fmMMSs04HzjO"
   },
   "outputs": [],
   "source": []
  },
  {
   "cell_type": "code",
   "execution_count": null,
   "metadata": {},
   "outputs": [],
   "source": []
  }
 ],
 "metadata": {
  "accelerator": "GPU",
  "colab": {
   "gpuType": "T4",
   "provenance": []
  },
  "kernelspec": {
   "display_name": "Python 3 (ipykernel)",
   "language": "python",
   "name": "python3"
  },
  "language_info": {
   "codemirror_mode": {
    "name": "ipython",
    "version": 3
   },
   "file_extension": ".py",
   "mimetype": "text/x-python",
   "name": "python",
   "nbconvert_exporter": "python",
   "pygments_lexer": "ipython3",
   "version": "3.9.19"
  },
  "widgets": {
   "application/vnd.jupyter.widget-state+json": {
    "046a89aae0be4e17ac8a86d324ab8212": {
     "model_module": "@jupyter-widgets/controls",
     "model_module_version": "1.5.0",
     "model_name": "ProgressStyleModel",
     "state": {
      "_model_module": "@jupyter-widgets/controls",
      "_model_module_version": "1.5.0",
      "_model_name": "ProgressStyleModel",
      "_view_count": null,
      "_view_module": "@jupyter-widgets/base",
      "_view_module_version": "1.2.0",
      "_view_name": "StyleView",
      "bar_color": null,
      "description_width": ""
     }
    },
    "04de949010964f2493ed039bee8d3dd9": {
     "model_module": "@jupyter-widgets/base",
     "model_module_version": "1.2.0",
     "model_name": "LayoutModel",
     "state": {
      "_model_module": "@jupyter-widgets/base",
      "_model_module_version": "1.2.0",
      "_model_name": "LayoutModel",
      "_view_count": null,
      "_view_module": "@jupyter-widgets/base",
      "_view_module_version": "1.2.0",
      "_view_name": "LayoutView",
      "align_content": null,
      "align_items": null,
      "align_self": null,
      "border": null,
      "bottom": null,
      "display": null,
      "flex": null,
      "flex_flow": null,
      "grid_area": null,
      "grid_auto_columns": null,
      "grid_auto_flow": null,
      "grid_auto_rows": null,
      "grid_column": null,
      "grid_gap": null,
      "grid_row": null,
      "grid_template_areas": null,
      "grid_template_columns": null,
      "grid_template_rows": null,
      "height": null,
      "justify_content": null,
      "justify_items": null,
      "left": null,
      "margin": null,
      "max_height": null,
      "max_width": null,
      "min_height": null,
      "min_width": null,
      "object_fit": null,
      "object_position": null,
      "order": null,
      "overflow": null,
      "overflow_x": null,
      "overflow_y": null,
      "padding": null,
      "right": null,
      "top": null,
      "visibility": null,
      "width": null
     }
    },
    "0991a6cc335a4e018fe3f9c04648bce7": {
     "model_module": "@jupyter-widgets/base",
     "model_module_version": "1.2.0",
     "model_name": "LayoutModel",
     "state": {
      "_model_module": "@jupyter-widgets/base",
      "_model_module_version": "1.2.0",
      "_model_name": "LayoutModel",
      "_view_count": null,
      "_view_module": "@jupyter-widgets/base",
      "_view_module_version": "1.2.0",
      "_view_name": "LayoutView",
      "align_content": null,
      "align_items": null,
      "align_self": null,
      "border": null,
      "bottom": null,
      "display": null,
      "flex": null,
      "flex_flow": null,
      "grid_area": null,
      "grid_auto_columns": null,
      "grid_auto_flow": null,
      "grid_auto_rows": null,
      "grid_column": null,
      "grid_gap": null,
      "grid_row": null,
      "grid_template_areas": null,
      "grid_template_columns": null,
      "grid_template_rows": null,
      "height": null,
      "justify_content": null,
      "justify_items": null,
      "left": null,
      "margin": null,
      "max_height": null,
      "max_width": null,
      "min_height": null,
      "min_width": null,
      "object_fit": null,
      "object_position": null,
      "order": null,
      "overflow": null,
      "overflow_x": null,
      "overflow_y": null,
      "padding": null,
      "right": null,
      "top": null,
      "visibility": null,
      "width": null
     }
    },
    "0a5cd27672804d7689b311bffa230976": {
     "model_module": "@jupyter-widgets/controls",
     "model_module_version": "1.5.0",
     "model_name": "DescriptionStyleModel",
     "state": {
      "_model_module": "@jupyter-widgets/controls",
      "_model_module_version": "1.5.0",
      "_model_name": "DescriptionStyleModel",
      "_view_count": null,
      "_view_module": "@jupyter-widgets/base",
      "_view_module_version": "1.2.0",
      "_view_name": "StyleView",
      "description_width": ""
     }
    },
    "0d9b4359a5e94006b58e600e70806b12": {
     "model_module": "@jupyter-widgets/controls",
     "model_module_version": "1.5.0",
     "model_name": "ProgressStyleModel",
     "state": {
      "_model_module": "@jupyter-widgets/controls",
      "_model_module_version": "1.5.0",
      "_model_name": "ProgressStyleModel",
      "_view_count": null,
      "_view_module": "@jupyter-widgets/base",
      "_view_module_version": "1.2.0",
      "_view_name": "StyleView",
      "bar_color": null,
      "description_width": ""
     }
    },
    "10187d5c9f674943b6c523b74657f911": {
     "model_module": "@jupyter-widgets/controls",
     "model_module_version": "1.5.0",
     "model_name": "HTMLModel",
     "state": {
      "_dom_classes": [],
      "_model_module": "@jupyter-widgets/controls",
      "_model_module_version": "1.5.0",
      "_model_name": "HTMLModel",
      "_view_count": null,
      "_view_module": "@jupyter-widgets/controls",
      "_view_module_version": "1.5.0",
      "_view_name": "HTMLView",
      "description": "",
      "description_tooltip": null,
      "layout": "IPY_MODEL_7059aba0e81f4702b52a895150fb959f",
      "placeholder": "​",
      "style": "IPY_MODEL_72fa2b1dc10b4e6980493ec7396d825a",
      "value": " 5.94k/5.94k [00:00&lt;00:00, 335kB/s]"
     }
    },
    "1ebc50b887b74cb2a88f579cd7d13813": {
     "model_module": "@jupyter-widgets/controls",
     "model_module_version": "1.5.0",
     "model_name": "FloatProgressModel",
     "state": {
      "_dom_classes": [],
      "_model_module": "@jupyter-widgets/controls",
      "_model_module_version": "1.5.0",
      "_model_name": "FloatProgressModel",
      "_view_count": null,
      "_view_module": "@jupyter-widgets/controls",
      "_view_module_version": "1.5.0",
      "_view_name": "ProgressView",
      "bar_style": "success",
      "description": "",
      "description_tooltip": null,
      "layout": "IPY_MODEL_2813b5022eb446009c0fb3abd3b294e5",
      "max": 5937,
      "min": 0,
      "orientation": "horizontal",
      "style": "IPY_MODEL_8c657b480a934100b80c6e32ad93f50c",
      "value": 5937
     }
    },
    "2813b5022eb446009c0fb3abd3b294e5": {
     "model_module": "@jupyter-widgets/base",
     "model_module_version": "1.2.0",
     "model_name": "LayoutModel",
     "state": {
      "_model_module": "@jupyter-widgets/base",
      "_model_module_version": "1.2.0",
      "_model_name": "LayoutModel",
      "_view_count": null,
      "_view_module": "@jupyter-widgets/base",
      "_view_module_version": "1.2.0",
      "_view_name": "LayoutView",
      "align_content": null,
      "align_items": null,
      "align_self": null,
      "border": null,
      "bottom": null,
      "display": null,
      "flex": null,
      "flex_flow": null,
      "grid_area": null,
      "grid_auto_columns": null,
      "grid_auto_flow": null,
      "grid_auto_rows": null,
      "grid_column": null,
      "grid_gap": null,
      "grid_row": null,
      "grid_template_areas": null,
      "grid_template_columns": null,
      "grid_template_rows": null,
      "height": null,
      "justify_content": null,
      "justify_items": null,
      "left": null,
      "margin": null,
      "max_height": null,
      "max_width": null,
      "min_height": null,
      "min_width": null,
      "object_fit": null,
      "object_position": null,
      "order": null,
      "overflow": null,
      "overflow_x": null,
      "overflow_y": null,
      "padding": null,
      "right": null,
      "top": null,
      "visibility": null,
      "width": null
     }
    },
    "30a00dd5fa7d47379ca02105ac052093": {
     "model_module": "@jupyter-widgets/controls",
     "model_module_version": "1.5.0",
     "model_name": "ProgressStyleModel",
     "state": {
      "_model_module": "@jupyter-widgets/controls",
      "_model_module_version": "1.5.0",
      "_model_name": "ProgressStyleModel",
      "_view_count": null,
      "_view_module": "@jupyter-widgets/base",
      "_view_module_version": "1.2.0",
      "_view_name": "StyleView",
      "bar_color": null,
      "description_width": ""
     }
    },
    "3800313356744a81ad2cd79e1ceb1f3b": {
     "model_module": "@jupyter-widgets/base",
     "model_module_version": "1.2.0",
     "model_name": "LayoutModel",
     "state": {
      "_model_module": "@jupyter-widgets/base",
      "_model_module_version": "1.2.0",
      "_model_name": "LayoutModel",
      "_view_count": null,
      "_view_module": "@jupyter-widgets/base",
      "_view_module_version": "1.2.0",
      "_view_name": "LayoutView",
      "align_content": null,
      "align_items": null,
      "align_self": null,
      "border": null,
      "bottom": null,
      "display": null,
      "flex": null,
      "flex_flow": null,
      "grid_area": null,
      "grid_auto_columns": null,
      "grid_auto_flow": null,
      "grid_auto_rows": null,
      "grid_column": null,
      "grid_gap": null,
      "grid_row": null,
      "grid_template_areas": null,
      "grid_template_columns": null,
      "grid_template_rows": null,
      "height": null,
      "justify_content": null,
      "justify_items": null,
      "left": null,
      "margin": null,
      "max_height": null,
      "max_width": null,
      "min_height": null,
      "min_width": null,
      "object_fit": null,
      "object_position": null,
      "order": null,
      "overflow": null,
      "overflow_x": null,
      "overflow_y": null,
      "padding": null,
      "right": null,
      "top": null,
      "visibility": null,
      "width": null
     }
    },
    "3866cd741c4b433aaba15644be806d1d": {
     "model_module": "@jupyter-widgets/base",
     "model_module_version": "1.2.0",
     "model_name": "LayoutModel",
     "state": {
      "_model_module": "@jupyter-widgets/base",
      "_model_module_version": "1.2.0",
      "_model_name": "LayoutModel",
      "_view_count": null,
      "_view_module": "@jupyter-widgets/base",
      "_view_module_version": "1.2.0",
      "_view_name": "LayoutView",
      "align_content": null,
      "align_items": null,
      "align_self": null,
      "border": null,
      "bottom": null,
      "display": null,
      "flex": null,
      "flex_flow": null,
      "grid_area": null,
      "grid_auto_columns": null,
      "grid_auto_flow": null,
      "grid_auto_rows": null,
      "grid_column": null,
      "grid_gap": null,
      "grid_row": null,
      "grid_template_areas": null,
      "grid_template_columns": null,
      "grid_template_rows": null,
      "height": null,
      "justify_content": null,
      "justify_items": null,
      "left": null,
      "margin": null,
      "max_height": null,
      "max_width": null,
      "min_height": null,
      "min_width": null,
      "object_fit": null,
      "object_position": null,
      "order": null,
      "overflow": null,
      "overflow_x": null,
      "overflow_y": null,
      "padding": null,
      "right": null,
      "top": null,
      "visibility": null,
      "width": null
     }
    },
    "3f74eba1e021418489216756005c0e4a": {
     "model_module": "@jupyter-widgets/base",
     "model_module_version": "1.2.0",
     "model_name": "LayoutModel",
     "state": {
      "_model_module": "@jupyter-widgets/base",
      "_model_module_version": "1.2.0",
      "_model_name": "LayoutModel",
      "_view_count": null,
      "_view_module": "@jupyter-widgets/base",
      "_view_module_version": "1.2.0",
      "_view_name": "LayoutView",
      "align_content": null,
      "align_items": null,
      "align_self": null,
      "border": null,
      "bottom": null,
      "display": null,
      "flex": null,
      "flex_flow": null,
      "grid_area": null,
      "grid_auto_columns": null,
      "grid_auto_flow": null,
      "grid_auto_rows": null,
      "grid_column": null,
      "grid_gap": null,
      "grid_row": null,
      "grid_template_areas": null,
      "grid_template_columns": null,
      "grid_template_rows": null,
      "height": null,
      "justify_content": null,
      "justify_items": null,
      "left": null,
      "margin": null,
      "max_height": null,
      "max_width": null,
      "min_height": null,
      "min_width": null,
      "object_fit": null,
      "object_position": null,
      "order": null,
      "overflow": null,
      "overflow_x": null,
      "overflow_y": null,
      "padding": null,
      "right": null,
      "top": null,
      "visibility": null,
      "width": null
     }
    },
    "402064b33c214d3eaf0044149e4971c7": {
     "model_module": "@jupyter-widgets/controls",
     "model_module_version": "1.5.0",
     "model_name": "HTMLModel",
     "state": {
      "_dom_classes": [],
      "_model_module": "@jupyter-widgets/controls",
      "_model_module_version": "1.5.0",
      "_model_name": "HTMLModel",
      "_view_count": null,
      "_view_module": "@jupyter-widgets/controls",
      "_view_module_version": "1.5.0",
      "_view_name": "HTMLView",
      "description": "",
      "description_tooltip": null,
      "layout": "IPY_MODEL_e43a244feeef404a8a802e828c71e723",
      "placeholder": "​",
      "style": "IPY_MODEL_f29b8fa08c914b66b816e6e4f3be41e6",
      "value": " 3.34k/3.34k [00:00&lt;00:00, 209kB/s]"
     }
    },
    "40a2bbce812849019d71309f1efd989e": {
     "model_module": "@jupyter-widgets/base",
     "model_module_version": "1.2.0",
     "model_name": "LayoutModel",
     "state": {
      "_model_module": "@jupyter-widgets/base",
      "_model_module_version": "1.2.0",
      "_model_name": "LayoutModel",
      "_view_count": null,
      "_view_module": "@jupyter-widgets/base",
      "_view_module_version": "1.2.0",
      "_view_name": "LayoutView",
      "align_content": null,
      "align_items": null,
      "align_self": null,
      "border": null,
      "bottom": null,
      "display": null,
      "flex": null,
      "flex_flow": null,
      "grid_area": null,
      "grid_auto_columns": null,
      "grid_auto_flow": null,
      "grid_auto_rows": null,
      "grid_column": null,
      "grid_gap": null,
      "grid_row": null,
      "grid_template_areas": null,
      "grid_template_columns": null,
      "grid_template_rows": null,
      "height": null,
      "justify_content": null,
      "justify_items": null,
      "left": null,
      "margin": null,
      "max_height": null,
      "max_width": null,
      "min_height": null,
      "min_width": null,
      "object_fit": null,
      "object_position": null,
      "order": null,
      "overflow": null,
      "overflow_x": null,
      "overflow_y": null,
      "padding": null,
      "right": null,
      "top": null,
      "visibility": null,
      "width": null
     }
    },
    "442aefa65cfe4bf9acbe9388eae4f782": {
     "model_module": "@jupyter-widgets/base",
     "model_module_version": "1.2.0",
     "model_name": "LayoutModel",
     "state": {
      "_model_module": "@jupyter-widgets/base",
      "_model_module_version": "1.2.0",
      "_model_name": "LayoutModel",
      "_view_count": null,
      "_view_module": "@jupyter-widgets/base",
      "_view_module_version": "1.2.0",
      "_view_name": "LayoutView",
      "align_content": null,
      "align_items": null,
      "align_self": null,
      "border": null,
      "bottom": null,
      "display": null,
      "flex": null,
      "flex_flow": null,
      "grid_area": null,
      "grid_auto_columns": null,
      "grid_auto_flow": null,
      "grid_auto_rows": null,
      "grid_column": null,
      "grid_gap": null,
      "grid_row": null,
      "grid_template_areas": null,
      "grid_template_columns": null,
      "grid_template_rows": null,
      "height": null,
      "justify_content": null,
      "justify_items": null,
      "left": null,
      "margin": null,
      "max_height": null,
      "max_width": null,
      "min_height": null,
      "min_width": null,
      "object_fit": null,
      "object_position": null,
      "order": null,
      "overflow": null,
      "overflow_x": null,
      "overflow_y": null,
      "padding": null,
      "right": null,
      "top": null,
      "visibility": null,
      "width": null
     }
    },
    "4431a295ec3843cc98b5d5c62bd77163": {
     "model_module": "@jupyter-widgets/controls",
     "model_module_version": "1.5.0",
     "model_name": "FloatProgressModel",
     "state": {
      "_dom_classes": [],
      "_model_module": "@jupyter-widgets/controls",
      "_model_module_version": "1.5.0",
      "_model_name": "FloatProgressModel",
      "_view_count": null,
      "_view_module": "@jupyter-widgets/controls",
      "_view_module_version": "1.5.0",
      "_view_name": "ProgressView",
      "bar_style": "success",
      "description": "",
      "description_tooltip": null,
      "layout": "IPY_MODEL_6124e359b9cd439781cbaf0609989f3a",
      "max": 27018,
      "min": 0,
      "orientation": "horizontal",
      "style": "IPY_MODEL_0d9b4359a5e94006b58e600e70806b12",
      "value": 27018
     }
    },
    "4546b8c4a0fb4279a0ebf18820957ee6": {
     "model_module": "@jupyter-widgets/controls",
     "model_module_version": "1.5.0",
     "model_name": "HTMLModel",
     "state": {
      "_dom_classes": [],
      "_model_module": "@jupyter-widgets/controls",
      "_model_module_version": "1.5.0",
      "_model_name": "HTMLModel",
      "_view_count": null,
      "_view_module": "@jupyter-widgets/controls",
      "_view_module_version": "1.5.0",
      "_view_name": "HTMLView",
      "description": "",
      "description_tooltip": null,
      "layout": "IPY_MODEL_5299012f653e428fbde10da99ba54485",
      "placeholder": "​",
      "style": "IPY_MODEL_cc5028330aa34b18bb2a8e7987307aa2",
      "value": "Map: 100%"
     }
    },
    "4d527243bf2846d794d27fbcd8f51c09": {
     "model_module": "@jupyter-widgets/controls",
     "model_module_version": "1.5.0",
     "model_name": "FloatProgressModel",
     "state": {
      "_dom_classes": [],
      "_model_module": "@jupyter-widgets/controls",
      "_model_module_version": "1.5.0",
      "_model_name": "FloatProgressModel",
      "_view_count": null,
      "_view_module": "@jupyter-widgets/controls",
      "_view_module_version": "1.5.0",
      "_view_name": "ProgressView",
      "bar_style": "success",
      "description": "",
      "description_tooltip": null,
      "layout": "IPY_MODEL_99527374d99e40edbaf6c460ed6b9943",
      "max": 3344,
      "min": 0,
      "orientation": "horizontal",
      "style": "IPY_MODEL_046a89aae0be4e17ac8a86d324ab8212",
      "value": 3344
     }
    },
    "51f53577b2d146f98ac985f50b74b904": {
     "model_module": "@jupyter-widgets/controls",
     "model_module_version": "1.5.0",
     "model_name": "DescriptionStyleModel",
     "state": {
      "_model_module": "@jupyter-widgets/controls",
      "_model_module_version": "1.5.0",
      "_model_name": "DescriptionStyleModel",
      "_view_count": null,
      "_view_module": "@jupyter-widgets/base",
      "_view_module_version": "1.2.0",
      "_view_name": "StyleView",
      "description_width": ""
     }
    },
    "5299012f653e428fbde10da99ba54485": {
     "model_module": "@jupyter-widgets/base",
     "model_module_version": "1.2.0",
     "model_name": "LayoutModel",
     "state": {
      "_model_module": "@jupyter-widgets/base",
      "_model_module_version": "1.2.0",
      "_model_name": "LayoutModel",
      "_view_count": null,
      "_view_module": "@jupyter-widgets/base",
      "_view_module_version": "1.2.0",
      "_view_name": "LayoutView",
      "align_content": null,
      "align_items": null,
      "align_self": null,
      "border": null,
      "bottom": null,
      "display": null,
      "flex": null,
      "flex_flow": null,
      "grid_area": null,
      "grid_auto_columns": null,
      "grid_auto_flow": null,
      "grid_auto_rows": null,
      "grid_column": null,
      "grid_gap": null,
      "grid_row": null,
      "grid_template_areas": null,
      "grid_template_columns": null,
      "grid_template_rows": null,
      "height": null,
      "justify_content": null,
      "justify_items": null,
      "left": null,
      "margin": null,
      "max_height": null,
      "max_width": null,
      "min_height": null,
      "min_width": null,
      "object_fit": null,
      "object_position": null,
      "order": null,
      "overflow": null,
      "overflow_x": null,
      "overflow_y": null,
      "padding": null,
      "right": null,
      "top": null,
      "visibility": null,
      "width": null
     }
    },
    "583c24ac407746cba805f5ba93b028dc": {
     "model_module": "@jupyter-widgets/controls",
     "model_module_version": "1.5.0",
     "model_name": "HBoxModel",
     "state": {
      "_dom_classes": [],
      "_model_module": "@jupyter-widgets/controls",
      "_model_module_version": "1.5.0",
      "_model_name": "HBoxModel",
      "_view_count": null,
      "_view_module": "@jupyter-widgets/controls",
      "_view_module_version": "1.5.0",
      "_view_name": "HBoxView",
      "box_style": "",
      "children": [
       "IPY_MODEL_603c7b67c8b74c99bfbf60d3abbad8d2",
       "IPY_MODEL_90431f3e570b48029ffab6b83b3be895",
       "IPY_MODEL_ca29a8b930b949e592015e8fa94b99ff"
      ],
      "layout": "IPY_MODEL_f10b09d9626547c7a0deaa936bd7f910"
     }
    },
    "59d4914ecbbe4c5f8c77e998ac371015": {
     "model_module": "@jupyter-widgets/controls",
     "model_module_version": "1.5.0",
     "model_name": "HTMLModel",
     "state": {
      "_dom_classes": [],
      "_model_module": "@jupyter-widgets/controls",
      "_model_module_version": "1.5.0",
      "_model_name": "HTMLModel",
      "_view_count": null,
      "_view_module": "@jupyter-widgets/controls",
      "_view_module_version": "1.5.0",
      "_view_name": "HTMLView",
      "description": "",
      "description_tooltip": null,
      "layout": "IPY_MODEL_0991a6cc335a4e018fe3f9c04648bce7",
      "placeholder": "​",
      "style": "IPY_MODEL_d8b25833512b4e73a375f81a05af31ba",
      "value": "Downloading extra modules: 100%"
     }
    },
    "603c7b67c8b74c99bfbf60d3abbad8d2": {
     "model_module": "@jupyter-widgets/controls",
     "model_module_version": "1.5.0",
     "model_name": "HTMLModel",
     "state": {
      "_dom_classes": [],
      "_model_module": "@jupyter-widgets/controls",
      "_model_module_version": "1.5.0",
      "_model_name": "HTMLModel",
      "_view_count": null,
      "_view_module": "@jupyter-widgets/controls",
      "_view_module_version": "1.5.0",
      "_view_name": "HTMLView",
      "description": "",
      "description_tooltip": null,
      "layout": "IPY_MODEL_3f74eba1e021418489216756005c0e4a",
      "placeholder": "​",
      "style": "IPY_MODEL_fa4621e326f94f52996b30080a126b74",
      "value": "Downloading extra modules: "
     }
    },
    "6124e359b9cd439781cbaf0609989f3a": {
     "model_module": "@jupyter-widgets/base",
     "model_module_version": "1.2.0",
     "model_name": "LayoutModel",
     "state": {
      "_model_module": "@jupyter-widgets/base",
      "_model_module_version": "1.2.0",
      "_model_name": "LayoutModel",
      "_view_count": null,
      "_view_module": "@jupyter-widgets/base",
      "_view_module_version": "1.2.0",
      "_view_name": "LayoutView",
      "align_content": null,
      "align_items": null,
      "align_self": null,
      "border": null,
      "bottom": null,
      "display": null,
      "flex": null,
      "flex_flow": null,
      "grid_area": null,
      "grid_auto_columns": null,
      "grid_auto_flow": null,
      "grid_auto_rows": null,
      "grid_column": null,
      "grid_gap": null,
      "grid_row": null,
      "grid_template_areas": null,
      "grid_template_columns": null,
      "grid_template_rows": null,
      "height": null,
      "justify_content": null,
      "justify_items": null,
      "left": null,
      "margin": null,
      "max_height": null,
      "max_width": null,
      "min_height": null,
      "min_width": null,
      "object_fit": null,
      "object_position": null,
      "order": null,
      "overflow": null,
      "overflow_x": null,
      "overflow_y": null,
      "padding": null,
      "right": null,
      "top": null,
      "visibility": null,
      "width": null
     }
    },
    "7059aba0e81f4702b52a895150fb959f": {
     "model_module": "@jupyter-widgets/base",
     "model_module_version": "1.2.0",
     "model_name": "LayoutModel",
     "state": {
      "_model_module": "@jupyter-widgets/base",
      "_model_module_version": "1.2.0",
      "_model_name": "LayoutModel",
      "_view_count": null,
      "_view_module": "@jupyter-widgets/base",
      "_view_module_version": "1.2.0",
      "_view_name": "LayoutView",
      "align_content": null,
      "align_items": null,
      "align_self": null,
      "border": null,
      "bottom": null,
      "display": null,
      "flex": null,
      "flex_flow": null,
      "grid_area": null,
      "grid_auto_columns": null,
      "grid_auto_flow": null,
      "grid_auto_rows": null,
      "grid_column": null,
      "grid_gap": null,
      "grid_row": null,
      "grid_template_areas": null,
      "grid_template_columns": null,
      "grid_template_rows": null,
      "height": null,
      "justify_content": null,
      "justify_items": null,
      "left": null,
      "margin": null,
      "max_height": null,
      "max_width": null,
      "min_height": null,
      "min_width": null,
      "object_fit": null,
      "object_position": null,
      "order": null,
      "overflow": null,
      "overflow_x": null,
      "overflow_y": null,
      "padding": null,
      "right": null,
      "top": null,
      "visibility": null,
      "width": null
     }
    },
    "7102b671693c4ac2b420d86c19fbd0bc": {
     "model_module": "@jupyter-widgets/base",
     "model_module_version": "1.2.0",
     "model_name": "LayoutModel",
     "state": {
      "_model_module": "@jupyter-widgets/base",
      "_model_module_version": "1.2.0",
      "_model_name": "LayoutModel",
      "_view_count": null,
      "_view_module": "@jupyter-widgets/base",
      "_view_module_version": "1.2.0",
      "_view_name": "LayoutView",
      "align_content": null,
      "align_items": null,
      "align_self": null,
      "border": null,
      "bottom": null,
      "display": null,
      "flex": null,
      "flex_flow": null,
      "grid_area": null,
      "grid_auto_columns": null,
      "grid_auto_flow": null,
      "grid_auto_rows": null,
      "grid_column": null,
      "grid_gap": null,
      "grid_row": null,
      "grid_template_areas": null,
      "grid_template_columns": null,
      "grid_template_rows": null,
      "height": null,
      "justify_content": null,
      "justify_items": null,
      "left": null,
      "margin": null,
      "max_height": null,
      "max_width": null,
      "min_height": null,
      "min_width": null,
      "object_fit": null,
      "object_position": null,
      "order": null,
      "overflow": null,
      "overflow_x": null,
      "overflow_y": null,
      "padding": null,
      "right": null,
      "top": null,
      "visibility": null,
      "width": null
     }
    },
    "72fa2b1dc10b4e6980493ec7396d825a": {
     "model_module": "@jupyter-widgets/controls",
     "model_module_version": "1.5.0",
     "model_name": "DescriptionStyleModel",
     "state": {
      "_model_module": "@jupyter-widgets/controls",
      "_model_module_version": "1.5.0",
      "_model_name": "DescriptionStyleModel",
      "_view_count": null,
      "_view_module": "@jupyter-widgets/base",
      "_view_module_version": "1.2.0",
      "_view_name": "StyleView",
      "description_width": ""
     }
    },
    "76f0c6a14c5b41aeb0016e650921a367": {
     "model_module": "@jupyter-widgets/controls",
     "model_module_version": "1.5.0",
     "model_name": "HTMLModel",
     "state": {
      "_dom_classes": [],
      "_model_module": "@jupyter-widgets/controls",
      "_model_module_version": "1.5.0",
      "_model_name": "HTMLModel",
      "_view_count": null,
      "_view_module": "@jupyter-widgets/controls",
      "_view_module_version": "1.5.0",
      "_view_name": "HTMLView",
      "description": "",
      "description_tooltip": null,
      "layout": "IPY_MODEL_7102b671693c4ac2b420d86c19fbd0bc",
      "placeholder": "​",
      "style": "IPY_MODEL_51f53577b2d146f98ac985f50b74b904",
      "value": " 27018/27018 [00:14&lt;00:00, 2076.41 examples/s]"
     }
    },
    "7b8aedb8a0764daa977c13f164355a0c": {
     "model_module": "@jupyter-widgets/controls",
     "model_module_version": "1.5.0",
     "model_name": "DescriptionStyleModel",
     "state": {
      "_model_module": "@jupyter-widgets/controls",
      "_model_module_version": "1.5.0",
      "_model_name": "DescriptionStyleModel",
      "_view_count": null,
      "_view_module": "@jupyter-widgets/base",
      "_view_module_version": "1.2.0",
      "_view_name": "StyleView",
      "description_width": ""
     }
    },
    "8b0f2fc38ed64bb084d08b887bbc9e71": {
     "model_module": "@jupyter-widgets/controls",
     "model_module_version": "1.5.0",
     "model_name": "HBoxModel",
     "state": {
      "_dom_classes": [],
      "_model_module": "@jupyter-widgets/controls",
      "_model_module_version": "1.5.0",
      "_model_name": "HBoxModel",
      "_view_count": null,
      "_view_module": "@jupyter-widgets/controls",
      "_view_module_version": "1.5.0",
      "_view_name": "HBoxView",
      "box_style": "",
      "children": [
       "IPY_MODEL_59d4914ecbbe4c5f8c77e998ac371015",
       "IPY_MODEL_4d527243bf2846d794d27fbcd8f51c09",
       "IPY_MODEL_402064b33c214d3eaf0044149e4971c7"
      ],
      "layout": "IPY_MODEL_b0a095e9dde04125aa98057f8beeccbc"
     }
    },
    "8c657b480a934100b80c6e32ad93f50c": {
     "model_module": "@jupyter-widgets/controls",
     "model_module_version": "1.5.0",
     "model_name": "ProgressStyleModel",
     "state": {
      "_model_module": "@jupyter-widgets/controls",
      "_model_module_version": "1.5.0",
      "_model_name": "ProgressStyleModel",
      "_view_count": null,
      "_view_module": "@jupyter-widgets/base",
      "_view_module_version": "1.2.0",
      "_view_name": "StyleView",
      "bar_color": null,
      "description_width": ""
     }
    },
    "90431f3e570b48029ffab6b83b3be895": {
     "model_module": "@jupyter-widgets/controls",
     "model_module_version": "1.5.0",
     "model_name": "FloatProgressModel",
     "state": {
      "_dom_classes": [],
      "_model_module": "@jupyter-widgets/controls",
      "_model_module_version": "1.5.0",
      "_model_name": "FloatProgressModel",
      "_view_count": null,
      "_view_module": "@jupyter-widgets/controls",
      "_view_module_version": "1.5.0",
      "_view_name": "ProgressView",
      "bar_style": "success",
      "description": "",
      "description_tooltip": null,
      "layout": "IPY_MODEL_442aefa65cfe4bf9acbe9388eae4f782",
      "max": 1554,
      "min": 0,
      "orientation": "horizontal",
      "style": "IPY_MODEL_a5125dbd99d84b4580d0c50f9175ae75",
      "value": 1554
     }
    },
    "99527374d99e40edbaf6c460ed6b9943": {
     "model_module": "@jupyter-widgets/base",
     "model_module_version": "1.2.0",
     "model_name": "LayoutModel",
     "state": {
      "_model_module": "@jupyter-widgets/base",
      "_model_module_version": "1.2.0",
      "_model_name": "LayoutModel",
      "_view_count": null,
      "_view_module": "@jupyter-widgets/base",
      "_view_module_version": "1.2.0",
      "_view_name": "LayoutView",
      "align_content": null,
      "align_items": null,
      "align_self": null,
      "border": null,
      "bottom": null,
      "display": null,
      "flex": null,
      "flex_flow": null,
      "grid_area": null,
      "grid_auto_columns": null,
      "grid_auto_flow": null,
      "grid_auto_rows": null,
      "grid_column": null,
      "grid_gap": null,
      "grid_row": null,
      "grid_template_areas": null,
      "grid_template_columns": null,
      "grid_template_rows": null,
      "height": null,
      "justify_content": null,
      "justify_items": null,
      "left": null,
      "margin": null,
      "max_height": null,
      "max_width": null,
      "min_height": null,
      "min_width": null,
      "object_fit": null,
      "object_position": null,
      "order": null,
      "overflow": null,
      "overflow_x": null,
      "overflow_y": null,
      "padding": null,
      "right": null,
      "top": null,
      "visibility": null,
      "width": null
     }
    },
    "9ec513aca22242e4af4324974907041c": {
     "model_module": "@jupyter-widgets/controls",
     "model_module_version": "1.5.0",
     "model_name": "HTMLModel",
     "state": {
      "_dom_classes": [],
      "_model_module": "@jupyter-widgets/controls",
      "_model_module_version": "1.5.0",
      "_model_name": "HTMLModel",
      "_view_count": null,
      "_view_module": "@jupyter-widgets/controls",
      "_view_module_version": "1.5.0",
      "_view_name": "HTMLView",
      "description": "",
      "description_tooltip": null,
      "layout": "IPY_MODEL_dc28001916424bfc824b94cea29e98bc",
      "placeholder": "​",
      "style": "IPY_MODEL_d1d61f6dcc064b8eaa2f121d09040f5e",
      "value": "Downloading builder script: 100%"
     }
    },
    "a0c6a69c4b434f289e301430555de97f": {
     "model_module": "@jupyter-widgets/controls",
     "model_module_version": "1.5.0",
     "model_name": "HTMLModel",
     "state": {
      "_dom_classes": [],
      "_model_module": "@jupyter-widgets/controls",
      "_model_module_version": "1.5.0",
      "_model_name": "HTMLModel",
      "_view_count": null,
      "_view_module": "@jupyter-widgets/controls",
      "_view_module_version": "1.5.0",
      "_view_name": "HTMLView",
      "description": "",
      "description_tooltip": null,
      "layout": "IPY_MODEL_3866cd741c4b433aaba15644be806d1d",
      "placeholder": "​",
      "style": "IPY_MODEL_f083a717dcb94159831e907aff3ceb0f",
      "value": " 3002/3002 [00:01&lt;00:00, 1670.05 examples/s]"
     }
    },
    "a5125dbd99d84b4580d0c50f9175ae75": {
     "model_module": "@jupyter-widgets/controls",
     "model_module_version": "1.5.0",
     "model_name": "ProgressStyleModel",
     "state": {
      "_model_module": "@jupyter-widgets/controls",
      "_model_module_version": "1.5.0",
      "_model_name": "ProgressStyleModel",
      "_view_count": null,
      "_view_module": "@jupyter-widgets/base",
      "_view_module_version": "1.2.0",
      "_view_name": "StyleView",
      "bar_color": null,
      "description_width": ""
     }
    },
    "a6ae9bd9ed4f4c53a6d96e55c7a227ea": {
     "model_module": "@jupyter-widgets/controls",
     "model_module_version": "1.5.0",
     "model_name": "FloatProgressModel",
     "state": {
      "_dom_classes": [],
      "_model_module": "@jupyter-widgets/controls",
      "_model_module_version": "1.5.0",
      "_model_name": "FloatProgressModel",
      "_view_count": null,
      "_view_module": "@jupyter-widgets/controls",
      "_view_module_version": "1.5.0",
      "_view_name": "ProgressView",
      "bar_style": "success",
      "description": "",
      "description_tooltip": null,
      "layout": "IPY_MODEL_f5d3eea7548f478fb80cf8d761f9f148",
      "max": 3002,
      "min": 0,
      "orientation": "horizontal",
      "style": "IPY_MODEL_30a00dd5fa7d47379ca02105ac052093",
      "value": 3002
     }
    },
    "ae23172792f64ce4b201db93d4b0875c": {
     "model_module": "@jupyter-widgets/controls",
     "model_module_version": "1.5.0",
     "model_name": "HTMLModel",
     "state": {
      "_dom_classes": [],
      "_model_module": "@jupyter-widgets/controls",
      "_model_module_version": "1.5.0",
      "_model_name": "HTMLModel",
      "_view_count": null,
      "_view_module": "@jupyter-widgets/controls",
      "_view_module_version": "1.5.0",
      "_view_name": "HTMLView",
      "description": "",
      "description_tooltip": null,
      "layout": "IPY_MODEL_ead595ef7076404fb5881e34cadb5cb3",
      "placeholder": "​",
      "style": "IPY_MODEL_0a5cd27672804d7689b311bffa230976",
      "value": "Map: 100%"
     }
    },
    "b0a095e9dde04125aa98057f8beeccbc": {
     "model_module": "@jupyter-widgets/base",
     "model_module_version": "1.2.0",
     "model_name": "LayoutModel",
     "state": {
      "_model_module": "@jupyter-widgets/base",
      "_model_module_version": "1.2.0",
      "_model_name": "LayoutModel",
      "_view_count": null,
      "_view_module": "@jupyter-widgets/base",
      "_view_module_version": "1.2.0",
      "_view_name": "LayoutView",
      "align_content": null,
      "align_items": null,
      "align_self": null,
      "border": null,
      "bottom": null,
      "display": null,
      "flex": null,
      "flex_flow": null,
      "grid_area": null,
      "grid_auto_columns": null,
      "grid_auto_flow": null,
      "grid_auto_rows": null,
      "grid_column": null,
      "grid_gap": null,
      "grid_row": null,
      "grid_template_areas": null,
      "grid_template_columns": null,
      "grid_template_rows": null,
      "height": null,
      "justify_content": null,
      "justify_items": null,
      "left": null,
      "margin": null,
      "max_height": null,
      "max_width": null,
      "min_height": null,
      "min_width": null,
      "object_fit": null,
      "object_position": null,
      "order": null,
      "overflow": null,
      "overflow_x": null,
      "overflow_y": null,
      "padding": null,
      "right": null,
      "top": null,
      "visibility": null,
      "width": null
     }
    },
    "bc9f4fa03d62449dae549d6d2d91ba90": {
     "model_module": "@jupyter-widgets/controls",
     "model_module_version": "1.5.0",
     "model_name": "HBoxModel",
     "state": {
      "_dom_classes": [],
      "_model_module": "@jupyter-widgets/controls",
      "_model_module_version": "1.5.0",
      "_model_name": "HBoxModel",
      "_view_count": null,
      "_view_module": "@jupyter-widgets/controls",
      "_view_module_version": "1.5.0",
      "_view_name": "HBoxView",
      "box_style": "",
      "children": [
       "IPY_MODEL_9ec513aca22242e4af4324974907041c",
       "IPY_MODEL_1ebc50b887b74cb2a88f579cd7d13813",
       "IPY_MODEL_10187d5c9f674943b6c523b74657f911"
      ],
      "layout": "IPY_MODEL_f6f344f7a649499b9e8e3079145e66f4"
     }
    },
    "c715719a5c6049579498a994cc1a611c": {
     "model_module": "@jupyter-widgets/controls",
     "model_module_version": "1.5.0",
     "model_name": "HBoxModel",
     "state": {
      "_dom_classes": [],
      "_model_module": "@jupyter-widgets/controls",
      "_model_module_version": "1.5.0",
      "_model_name": "HBoxModel",
      "_view_count": null,
      "_view_module": "@jupyter-widgets/controls",
      "_view_module_version": "1.5.0",
      "_view_name": "HBoxView",
      "box_style": "",
      "children": [
       "IPY_MODEL_ae23172792f64ce4b201db93d4b0875c",
       "IPY_MODEL_4431a295ec3843cc98b5d5c62bd77163",
       "IPY_MODEL_76f0c6a14c5b41aeb0016e650921a367"
      ],
      "layout": "IPY_MODEL_40a2bbce812849019d71309f1efd989e"
     }
    },
    "ca29a8b930b949e592015e8fa94b99ff": {
     "model_module": "@jupyter-widgets/controls",
     "model_module_version": "1.5.0",
     "model_name": "HTMLModel",
     "state": {
      "_dom_classes": [],
      "_model_module": "@jupyter-widgets/controls",
      "_model_module_version": "1.5.0",
      "_model_name": "HTMLModel",
      "_view_count": null,
      "_view_module": "@jupyter-widgets/controls",
      "_view_module_version": "1.5.0",
      "_view_name": "HTMLView",
      "description": "",
      "description_tooltip": null,
      "layout": "IPY_MODEL_3800313356744a81ad2cd79e1ceb1f3b",
      "placeholder": "​",
      "style": "IPY_MODEL_7b8aedb8a0764daa977c13f164355a0c",
      "value": " 4.07k/? [00:00&lt;00:00, 257kB/s]"
     }
    },
    "ca2b150251dd49e39d18f929729a83db": {
     "model_module": "@jupyter-widgets/controls",
     "model_module_version": "1.5.0",
     "model_name": "HBoxModel",
     "state": {
      "_dom_classes": [],
      "_model_module": "@jupyter-widgets/controls",
      "_model_module_version": "1.5.0",
      "_model_name": "HBoxModel",
      "_view_count": null,
      "_view_module": "@jupyter-widgets/controls",
      "_view_module_version": "1.5.0",
      "_view_name": "HBoxView",
      "box_style": "",
      "children": [
       "IPY_MODEL_4546b8c4a0fb4279a0ebf18820957ee6",
       "IPY_MODEL_a6ae9bd9ed4f4c53a6d96e55c7a227ea",
       "IPY_MODEL_a0c6a69c4b434f289e301430555de97f"
      ],
      "layout": "IPY_MODEL_04de949010964f2493ed039bee8d3dd9"
     }
    },
    "cc5028330aa34b18bb2a8e7987307aa2": {
     "model_module": "@jupyter-widgets/controls",
     "model_module_version": "1.5.0",
     "model_name": "DescriptionStyleModel",
     "state": {
      "_model_module": "@jupyter-widgets/controls",
      "_model_module_version": "1.5.0",
      "_model_name": "DescriptionStyleModel",
      "_view_count": null,
      "_view_module": "@jupyter-widgets/base",
      "_view_module_version": "1.2.0",
      "_view_name": "StyleView",
      "description_width": ""
     }
    },
    "d1d61f6dcc064b8eaa2f121d09040f5e": {
     "model_module": "@jupyter-widgets/controls",
     "model_module_version": "1.5.0",
     "model_name": "DescriptionStyleModel",
     "state": {
      "_model_module": "@jupyter-widgets/controls",
      "_model_module_version": "1.5.0",
      "_model_name": "DescriptionStyleModel",
      "_view_count": null,
      "_view_module": "@jupyter-widgets/base",
      "_view_module_version": "1.2.0",
      "_view_name": "StyleView",
      "description_width": ""
     }
    },
    "d8b25833512b4e73a375f81a05af31ba": {
     "model_module": "@jupyter-widgets/controls",
     "model_module_version": "1.5.0",
     "model_name": "DescriptionStyleModel",
     "state": {
      "_model_module": "@jupyter-widgets/controls",
      "_model_module_version": "1.5.0",
      "_model_name": "DescriptionStyleModel",
      "_view_count": null,
      "_view_module": "@jupyter-widgets/base",
      "_view_module_version": "1.2.0",
      "_view_name": "StyleView",
      "description_width": ""
     }
    },
    "dc28001916424bfc824b94cea29e98bc": {
     "model_module": "@jupyter-widgets/base",
     "model_module_version": "1.2.0",
     "model_name": "LayoutModel",
     "state": {
      "_model_module": "@jupyter-widgets/base",
      "_model_module_version": "1.2.0",
      "_model_name": "LayoutModel",
      "_view_count": null,
      "_view_module": "@jupyter-widgets/base",
      "_view_module_version": "1.2.0",
      "_view_name": "LayoutView",
      "align_content": null,
      "align_items": null,
      "align_self": null,
      "border": null,
      "bottom": null,
      "display": null,
      "flex": null,
      "flex_flow": null,
      "grid_area": null,
      "grid_auto_columns": null,
      "grid_auto_flow": null,
      "grid_auto_rows": null,
      "grid_column": null,
      "grid_gap": null,
      "grid_row": null,
      "grid_template_areas": null,
      "grid_template_columns": null,
      "grid_template_rows": null,
      "height": null,
      "justify_content": null,
      "justify_items": null,
      "left": null,
      "margin": null,
      "max_height": null,
      "max_width": null,
      "min_height": null,
      "min_width": null,
      "object_fit": null,
      "object_position": null,
      "order": null,
      "overflow": null,
      "overflow_x": null,
      "overflow_y": null,
      "padding": null,
      "right": null,
      "top": null,
      "visibility": null,
      "width": null
     }
    },
    "e43a244feeef404a8a802e828c71e723": {
     "model_module": "@jupyter-widgets/base",
     "model_module_version": "1.2.0",
     "model_name": "LayoutModel",
     "state": {
      "_model_module": "@jupyter-widgets/base",
      "_model_module_version": "1.2.0",
      "_model_name": "LayoutModel",
      "_view_count": null,
      "_view_module": "@jupyter-widgets/base",
      "_view_module_version": "1.2.0",
      "_view_name": "LayoutView",
      "align_content": null,
      "align_items": null,
      "align_self": null,
      "border": null,
      "bottom": null,
      "display": null,
      "flex": null,
      "flex_flow": null,
      "grid_area": null,
      "grid_auto_columns": null,
      "grid_auto_flow": null,
      "grid_auto_rows": null,
      "grid_column": null,
      "grid_gap": null,
      "grid_row": null,
      "grid_template_areas": null,
      "grid_template_columns": null,
      "grid_template_rows": null,
      "height": null,
      "justify_content": null,
      "justify_items": null,
      "left": null,
      "margin": null,
      "max_height": null,
      "max_width": null,
      "min_height": null,
      "min_width": null,
      "object_fit": null,
      "object_position": null,
      "order": null,
      "overflow": null,
      "overflow_x": null,
      "overflow_y": null,
      "padding": null,
      "right": null,
      "top": null,
      "visibility": null,
      "width": null
     }
    },
    "ead595ef7076404fb5881e34cadb5cb3": {
     "model_module": "@jupyter-widgets/base",
     "model_module_version": "1.2.0",
     "model_name": "LayoutModel",
     "state": {
      "_model_module": "@jupyter-widgets/base",
      "_model_module_version": "1.2.0",
      "_model_name": "LayoutModel",
      "_view_count": null,
      "_view_module": "@jupyter-widgets/base",
      "_view_module_version": "1.2.0",
      "_view_name": "LayoutView",
      "align_content": null,
      "align_items": null,
      "align_self": null,
      "border": null,
      "bottom": null,
      "display": null,
      "flex": null,
      "flex_flow": null,
      "grid_area": null,
      "grid_auto_columns": null,
      "grid_auto_flow": null,
      "grid_auto_rows": null,
      "grid_column": null,
      "grid_gap": null,
      "grid_row": null,
      "grid_template_areas": null,
      "grid_template_columns": null,
      "grid_template_rows": null,
      "height": null,
      "justify_content": null,
      "justify_items": null,
      "left": null,
      "margin": null,
      "max_height": null,
      "max_width": null,
      "min_height": null,
      "min_width": null,
      "object_fit": null,
      "object_position": null,
      "order": null,
      "overflow": null,
      "overflow_x": null,
      "overflow_y": null,
      "padding": null,
      "right": null,
      "top": null,
      "visibility": null,
      "width": null
     }
    },
    "f083a717dcb94159831e907aff3ceb0f": {
     "model_module": "@jupyter-widgets/controls",
     "model_module_version": "1.5.0",
     "model_name": "DescriptionStyleModel",
     "state": {
      "_model_module": "@jupyter-widgets/controls",
      "_model_module_version": "1.5.0",
      "_model_name": "DescriptionStyleModel",
      "_view_count": null,
      "_view_module": "@jupyter-widgets/base",
      "_view_module_version": "1.2.0",
      "_view_name": "StyleView",
      "description_width": ""
     }
    },
    "f10b09d9626547c7a0deaa936bd7f910": {
     "model_module": "@jupyter-widgets/base",
     "model_module_version": "1.2.0",
     "model_name": "LayoutModel",
     "state": {
      "_model_module": "@jupyter-widgets/base",
      "_model_module_version": "1.2.0",
      "_model_name": "LayoutModel",
      "_view_count": null,
      "_view_module": "@jupyter-widgets/base",
      "_view_module_version": "1.2.0",
      "_view_name": "LayoutView",
      "align_content": null,
      "align_items": null,
      "align_self": null,
      "border": null,
      "bottom": null,
      "display": null,
      "flex": null,
      "flex_flow": null,
      "grid_area": null,
      "grid_auto_columns": null,
      "grid_auto_flow": null,
      "grid_auto_rows": null,
      "grid_column": null,
      "grid_gap": null,
      "grid_row": null,
      "grid_template_areas": null,
      "grid_template_columns": null,
      "grid_template_rows": null,
      "height": null,
      "justify_content": null,
      "justify_items": null,
      "left": null,
      "margin": null,
      "max_height": null,
      "max_width": null,
      "min_height": null,
      "min_width": null,
      "object_fit": null,
      "object_position": null,
      "order": null,
      "overflow": null,
      "overflow_x": null,
      "overflow_y": null,
      "padding": null,
      "right": null,
      "top": null,
      "visibility": null,
      "width": null
     }
    },
    "f29b8fa08c914b66b816e6e4f3be41e6": {
     "model_module": "@jupyter-widgets/controls",
     "model_module_version": "1.5.0",
     "model_name": "DescriptionStyleModel",
     "state": {
      "_model_module": "@jupyter-widgets/controls",
      "_model_module_version": "1.5.0",
      "_model_name": "DescriptionStyleModel",
      "_view_count": null,
      "_view_module": "@jupyter-widgets/base",
      "_view_module_version": "1.2.0",
      "_view_name": "StyleView",
      "description_width": ""
     }
    },
    "f5d3eea7548f478fb80cf8d761f9f148": {
     "model_module": "@jupyter-widgets/base",
     "model_module_version": "1.2.0",
     "model_name": "LayoutModel",
     "state": {
      "_model_module": "@jupyter-widgets/base",
      "_model_module_version": "1.2.0",
      "_model_name": "LayoutModel",
      "_view_count": null,
      "_view_module": "@jupyter-widgets/base",
      "_view_module_version": "1.2.0",
      "_view_name": "LayoutView",
      "align_content": null,
      "align_items": null,
      "align_self": null,
      "border": null,
      "bottom": null,
      "display": null,
      "flex": null,
      "flex_flow": null,
      "grid_area": null,
      "grid_auto_columns": null,
      "grid_auto_flow": null,
      "grid_auto_rows": null,
      "grid_column": null,
      "grid_gap": null,
      "grid_row": null,
      "grid_template_areas": null,
      "grid_template_columns": null,
      "grid_template_rows": null,
      "height": null,
      "justify_content": null,
      "justify_items": null,
      "left": null,
      "margin": null,
      "max_height": null,
      "max_width": null,
      "min_height": null,
      "min_width": null,
      "object_fit": null,
      "object_position": null,
      "order": null,
      "overflow": null,
      "overflow_x": null,
      "overflow_y": null,
      "padding": null,
      "right": null,
      "top": null,
      "visibility": null,
      "width": null
     }
    },
    "f6f344f7a649499b9e8e3079145e66f4": {
     "model_module": "@jupyter-widgets/base",
     "model_module_version": "1.2.0",
     "model_name": "LayoutModel",
     "state": {
      "_model_module": "@jupyter-widgets/base",
      "_model_module_version": "1.2.0",
      "_model_name": "LayoutModel",
      "_view_count": null,
      "_view_module": "@jupyter-widgets/base",
      "_view_module_version": "1.2.0",
      "_view_name": "LayoutView",
      "align_content": null,
      "align_items": null,
      "align_self": null,
      "border": null,
      "bottom": null,
      "display": null,
      "flex": null,
      "flex_flow": null,
      "grid_area": null,
      "grid_auto_columns": null,
      "grid_auto_flow": null,
      "grid_auto_rows": null,
      "grid_column": null,
      "grid_gap": null,
      "grid_row": null,
      "grid_template_areas": null,
      "grid_template_columns": null,
      "grid_template_rows": null,
      "height": null,
      "justify_content": null,
      "justify_items": null,
      "left": null,
      "margin": null,
      "max_height": null,
      "max_width": null,
      "min_height": null,
      "min_width": null,
      "object_fit": null,
      "object_position": null,
      "order": null,
      "overflow": null,
      "overflow_x": null,
      "overflow_y": null,
      "padding": null,
      "right": null,
      "top": null,
      "visibility": null,
      "width": null
     }
    },
    "fa4621e326f94f52996b30080a126b74": {
     "model_module": "@jupyter-widgets/controls",
     "model_module_version": "1.5.0",
     "model_name": "DescriptionStyleModel",
     "state": {
      "_model_module": "@jupyter-widgets/controls",
      "_model_module_version": "1.5.0",
      "_model_name": "DescriptionStyleModel",
      "_view_count": null,
      "_view_module": "@jupyter-widgets/base",
      "_view_module_version": "1.2.0",
      "_view_name": "StyleView",
      "description_width": ""
     }
    }
   }
  }
 },
 "nbformat": 4,
 "nbformat_minor": 4
}
