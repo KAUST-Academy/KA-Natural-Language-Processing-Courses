{
  "nbformat": 4,
  "nbformat_minor": 0,
  "metadata": {
    "colab": {
      "provenance": []
    },
    "kernelspec": {
      "name": "python3",
      "display_name": "Python 3"
    },
    "language_info": {
      "name": "python"
    }
  },
  "cells": [
    {
      "cell_type": "code",
      "source": [
        "from IPython.display import clear_output"
      ],
      "metadata": {
        "id": "21Yk7pIQI9CO"
      },
      "execution_count": 1,
      "outputs": []
    },
    {
      "cell_type": "code",
      "source": [
        "# %pip install numpy tqdm\n",
        "\n",
        "%pip install datasets\n",
        "\n",
        "clear_output()"
      ],
      "metadata": {
        "id": "_Lev9TilJARb"
      },
      "execution_count": 2,
      "outputs": []
    },
    {
      "cell_type": "markdown",
      "source": [
        "# Conent\n",
        "\n",
        "In this demo, we will custom implement a TF-IDF calculator/model\n",
        "\n",
        "TF-IDF is a technique of converting words into numerical representations so they can then be further used by models to perform some task\n",
        "\n",
        "The cool thing about TF-IDF is that they have the ability to see how important a word is and they assign important words a higher value than non-important words\n",
        "\n",
        "This means, that stop words will get a lower value assigned to them which means we don't have to manually remove stop words or atleast that the need for it is reduced"
      ],
      "metadata": {
        "id": "BuXKlMRlEWUB"
      }
    },
    {
      "cell_type": "code",
      "source": [
        "import math\n",
        "from collections import Counter\n",
        "import string\n",
        "\n",
        "import numpy as np\n",
        "from tqdm import tqdm\n",
        "\n",
        "from datasets import load_dataset"
      ],
      "metadata": {
        "id": "u8yZeasRJGzO"
      },
      "execution_count": 3,
      "outputs": []
    },
    {
      "cell_type": "markdown",
      "source": [
        "## Defining TF-IDF calculation functions"
      ],
      "metadata": {
        "id": "3kwx4Y4gLAOD"
      }
    },
    {
      "cell_type": "code",
      "source": [
        "def calculate_tf(documents):\n",
        "\n",
        "    doc_tfs = []\n",
        "\n",
        "    for doc in tqdm(documents, desc='Calculating TFs'):\n",
        "        tf_doc = {}\n",
        "        word_count = len(doc.split())\n",
        "        word_freq = Counter(doc.split())\n",
        "        for word, freq in word_freq.items():\n",
        "            tf_doc[word] = freq / word_count\n",
        "        doc_tfs.append(tf_doc)\n",
        "\n",
        "    return doc_tfs\n",
        "\n",
        "def calculate_idf(tfs):\n",
        "\n",
        "    token_to_idfs = {}\n",
        "    doc_count = len(tfs)\n",
        "    all_tokens = [token for tf in tfs for token in tf]\n",
        "    for token in tqdm(all_tokens, desc='Calculating IDFs'):\n",
        "        doc_containing_token = sum([1 for tf in tfs if token in tf])\n",
        "        token_to_idfs[token] = math.log(doc_count / (1 + doc_containing_token))\n",
        "\n",
        "    return token_to_idfs\n",
        "\n",
        "def calculate_tfidf(documents):\n",
        "\n",
        "    documents = [doc.lower() for doc in documents]\n",
        "\n",
        "    doc_tfs = calculate_tf(documents)\n",
        "    token_to_idfs = calculate_idf(doc_tfs)\n",
        "\n",
        "    doc_tfidfs = []\n",
        "\n",
        "    for doc_tf in tqdm(doc_tfs, desc='Calculating TF-IDFs'):\n",
        "\n",
        "        doc_tfidf = {token: tf*token_to_idfs[token] for token, tf in doc_tf.items()}\n",
        "        doc_tfidfs.append(doc_tfidf)\n",
        "\n",
        "    return doc_tfidfs\n",
        "\n",
        "def word_to_tf_idf_vector(word, doc_tfidfs):\n",
        "    # A TF-IDF vector representation of a token/word is taken as a vector made of tf-idf of that token in all documents\n",
        "\n",
        "    vector = [doc_tfidf.get(word.lower(), 0) for doc_tfidf in doc_tfidfs]\n",
        "    vector = np.array(vector)\n",
        "\n",
        "    return vector\n"
      ],
      "metadata": {
        "id": "4PhXlamhEYsN"
      },
      "execution_count": 4,
      "outputs": []
    },
    {
      "cell_type": "markdown",
      "source": [
        "## Downloading the dataset\n",
        "\n",
        "we will train on IMDB movie reviews dataset"
      ],
      "metadata": {
        "id": "HaVe1XDpLU-W"
      }
    },
    {
      "cell_type": "code",
      "source": [
        "train_data = load_dataset('imdb', split='train')['text']\n",
        "train_data = train_data[:500]  # shorten the data because all 25k rows take too long to train"
      ],
      "metadata": {
        "id": "baiQoCOsNLZT"
      },
      "execution_count": 9,
      "outputs": []
    },
    {
      "cell_type": "code",
      "source": [
        "# remove punctuations from the data\n",
        "\n",
        "translator = str.maketrans('', '', string.punctuation)\n",
        "train_data = list(map(lambda x: x.translate(translator), tqdm(train_data)))"
      ],
      "metadata": {
        "colab": {
          "base_uri": "https://localhost:8080/"
        },
        "id": "PVLhwS3jTcnL",
        "outputId": "5a9571c9-acfd-44bb-f838-fd99c91e47e4"
      },
      "execution_count": 10,
      "outputs": [
        {
          "output_type": "stream",
          "name": "stderr",
          "text": [
            "100%|██████████| 500/500 [00:00<00:00, 25329.76it/s]\n"
          ]
        }
      ]
    },
    {
      "cell_type": "code",
      "source": [
        "doc_tfidfs = calculate_tfidf(train_data)"
      ],
      "metadata": {
        "colab": {
          "base_uri": "https://localhost:8080/"
        },
        "id": "Cu8VacwUIBaF",
        "outputId": "4a64c794-36ce-4588-9153-16ad300609cf"
      },
      "execution_count": 11,
      "outputs": [
        {
          "output_type": "stream",
          "name": "stderr",
          "text": [
            "Calculating TFs: 100%|██████████| 500/500 [00:00<00:00, 11820.60it/s]\n",
            "Calculating IDFs: 100%|██████████| 67217/67217 [00:05<00:00, 12672.14it/s]\n",
            "Calculating TF-IDFs: 100%|██████████| 500/500 [00:00<00:00, 24849.24it/s]\n"
          ]
        }
      ]
    },
    {
      "cell_type": "markdown",
      "source": [
        "## Lets visualize some vectors"
      ],
      "metadata": {
        "id": "SA1v_OIvUjD5"
      }
    },
    {
      "cell_type": "code",
      "source": [
        "# word_to_tf_idf_vector(\"the\", doc_tfidfs)  # for vector\n",
        "print(f'Vector sum for the word \"the\": {word_to_tf_idf_vector(\"the\", doc_tfidfs).sum()}')\n",
        "print(f'Vector sum for the word \"plot\": {word_to_tf_idf_vector(\"plot\", doc_tfidfs).sum()}')"
      ],
      "metadata": {
        "id": "RMTRcbheJXQH",
        "colab": {
          "base_uri": "https://localhost:8080/"
        },
        "outputId": "3f17251e-5111-44e5-95a9-ba4f60af388c"
      },
      "execution_count": 12,
      "outputs": [
        {
          "output_type": "stream",
          "name": "stdout",
          "text": [
            "Vector sum for the word \"the\": 0.16488058605906525\n",
            "Vector sum for the word \"plot\": 1.2984830346401326\n"
          ]
        }
      ]
    },
    {
      "cell_type": "markdown",
      "source": [
        "As we see above, the vector sum of the word 'the' is very smaller compared to the word 'plot' because 'the' is a stop word\n",
        "\n",
        "we can use these vectors (without summing) as numerical representations of words to train models for other tasks"
      ],
      "metadata": {
        "id": "57qMwdxOVPlv"
      }
    }
  ]
}