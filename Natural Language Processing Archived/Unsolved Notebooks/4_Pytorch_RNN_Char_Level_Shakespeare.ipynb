{
  "cells": [
    {
      "cell_type": "markdown",
      "metadata": {
        "id": "fjdDh5NAgDWg"
      },
      "source": [
        "# Content\n",
        "\n",
        "In this notebook, you need to train a Character level RNN.\n",
        "\n",
        "Character level means that instead of generating complete WORDS(or a complete word at a time) like in a word level RNN, the model will learn to generate individual characters(one single character at a time).\n",
        "\n",
        "you need to train it on the Tiny Shakespeare dataset. It consists of a single text file containing a selection of works by William Shakespeare, specifically his plays.\n",
        "\n",
        "After you train the model, make sure to show how it performs by using it to generate some texts"
      ]
    },
    {
      "cell_type": "code",
      "execution_count": 41,
      "metadata": {
        "id": "0pdlupahkMQW"
      },
      "outputs": [],
      "source": [
        "from IPython.display import clear_output"
      ]
    },
    {
      "cell_type": "code",
      "execution_count": 42,
      "metadata": {
        "id": "3FWE3CawkDbS"
      },
      "outputs": [],
      "source": [
        "# %pip install numpy matplotlib torch tqdm requests\n",
        "\n",
        "clear_output()"
      ]
    },
    {
      "cell_type": "code",
      "execution_count": 1,
      "metadata": {
        "id": "q3BQkk4gIlAo"
      },
      "outputs": [],
      "source": [
        "import random\n",
        "import requests\n",
        "\n",
        "import numpy as np\n",
        "import matplotlib.pyplot as plt\n",
        "\n",
        "import torch\n",
        "import torch.nn as nn\n",
        "from torch.utils.data import Dataset, DataLoader\n",
        "\n",
        "from tqdm import tqdm"
      ]
    },
    {
      "cell_type": "markdown",
      "metadata": {
        "id": "rwzMbT_5RgWU"
      },
      "source": [
        "## Loading the data"
      ]
    },
    {
      "cell_type": "code",
      "execution_count": 2,
      "metadata": {
        "id": "lB1CrIBsI6_H"
      },
      "outputs": [],
      "source": [
        "# Load the dataset\n",
        "dataset_url = \"https://raw.githubusercontent.com/karpathy/char-rnn/master/data/tinyshakespeare/input.txt\"\n",
        "shakespeare_text = requests.get(dataset_url).text"
      ]
    },
    {
      "cell_type": "markdown",
      "metadata": {
        "id": "xxoY7lWBSZyc"
      },
      "source": [
        "## Defining the dataset class\n",
        "\n",
        "Create a dataset class to sample parts of text to be fed to the model"
      ]
    },
    {
      "cell_type": "code",
      "execution_count": 20,
      "metadata": {
        "id": "4I3tEVP4SbnG"
      },
      "outputs": [],
      "source": []
    },
    {
      "cell_type": "markdown",
      "metadata": {
        "id": "cvG0TjbnRiX0"
      },
      "source": [
        "## Defining the model\n",
        "\n",
        "Define your RNN model for text generation"
      ]
    },
    {
      "cell_type": "code",
      "execution_count": null,
      "metadata": {},
      "outputs": [],
      "source": []
    },
    {
      "cell_type": "markdown",
      "metadata": {
        "id": "PHdkRlSgVFe_"
      },
      "source": [
        "## Training the model"
      ]
    },
    {
      "cell_type": "code",
      "execution_count": null,
      "metadata": {},
      "outputs": [],
      "source": []
    },
    {
      "cell_type": "markdown",
      "metadata": {
        "id": "LS9tyBABf0Hd"
      },
      "source": [
        "## Testing the model\n",
        "\n",
        "generate some texts using your trained model to show how it performs"
      ]
    },
    {
      "cell_type": "code",
      "execution_count": null,
      "metadata": {},
      "outputs": [],
      "source": []
    },
    {
      "cell_type": "code",
      "execution_count": null,
      "metadata": {
        "id": "yj6cyswHfIjd"
      },
      "outputs": [],
      "source": []
    }
  ],
  "metadata": {
    "accelerator": "GPU",
    "colab": {
      "gpuType": "T4",
      "provenance": []
    },
    "kernelspec": {
      "display_name": "Python 3",
      "name": "python3"
    },
    "language_info": {
      "name": "python"
    }
  },
  "nbformat": 4,
  "nbformat_minor": 0
}
